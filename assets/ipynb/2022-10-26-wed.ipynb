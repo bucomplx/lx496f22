{
 "cells": [
  {
   "cell_type": "code",
   "execution_count": 1,
   "id": "fa4e996c",
   "metadata": {},
   "outputs": [],
   "source": [
    "# sentiment analysis "
   ]
  },
  {
   "cell_type": "code",
   "execution_count": 2,
   "id": "6269c915",
   "metadata": {},
   "outputs": [],
   "source": [
    "import pandas as pd"
   ]
  },
  {
   "cell_type": "code",
   "execution_count": 3,
   "id": "a91c28ab",
   "metadata": {},
   "outputs": [],
   "source": [
    "col_name = ['sentence', 'label']"
   ]
  },
  {
   "cell_type": "code",
   "execution_count": 6,
   "id": "abdb11b5",
   "metadata": {},
   "outputs": [],
   "source": [
    "df_yelp = pd.read_csv('/projectnb/lx796/materials/sentisent/yelp_labelled.txt', names=col_name, sep=\"\\t\")\n",
    "\n"
   ]
  },
  {
   "cell_type": "code",
   "execution_count": 7,
   "id": "607cd228",
   "metadata": {},
   "outputs": [
    {
     "data": {
      "text/html": [
       "<div>\n",
       "<style scoped>\n",
       "    .dataframe tbody tr th:only-of-type {\n",
       "        vertical-align: middle;\n",
       "    }\n",
       "\n",
       "    .dataframe tbody tr th {\n",
       "        vertical-align: top;\n",
       "    }\n",
       "\n",
       "    .dataframe thead th {\n",
       "        text-align: right;\n",
       "    }\n",
       "</style>\n",
       "<table border=\"1\" class=\"dataframe\">\n",
       "  <thead>\n",
       "    <tr style=\"text-align: right;\">\n",
       "      <th></th>\n",
       "      <th>sentence</th>\n",
       "      <th>label</th>\n",
       "    </tr>\n",
       "  </thead>\n",
       "  <tbody>\n",
       "    <tr>\n",
       "      <th>0</th>\n",
       "      <td>Wow... Loved this place.</td>\n",
       "      <td>1</td>\n",
       "    </tr>\n",
       "    <tr>\n",
       "      <th>1</th>\n",
       "      <td>Crust is not good.</td>\n",
       "      <td>0</td>\n",
       "    </tr>\n",
       "    <tr>\n",
       "      <th>2</th>\n",
       "      <td>Not tasty and the texture was just nasty.</td>\n",
       "      <td>0</td>\n",
       "    </tr>\n",
       "    <tr>\n",
       "      <th>3</th>\n",
       "      <td>Stopped by during the late May bank holiday of...</td>\n",
       "      <td>1</td>\n",
       "    </tr>\n",
       "    <tr>\n",
       "      <th>4</th>\n",
       "      <td>The selection on the menu was great and so wer...</td>\n",
       "      <td>1</td>\n",
       "    </tr>\n",
       "    <tr>\n",
       "      <th>...</th>\n",
       "      <td>...</td>\n",
       "      <td>...</td>\n",
       "    </tr>\n",
       "    <tr>\n",
       "      <th>995</th>\n",
       "      <td>I think food should have flavor and texture an...</td>\n",
       "      <td>0</td>\n",
       "    </tr>\n",
       "    <tr>\n",
       "      <th>996</th>\n",
       "      <td>Appetite instantly gone.</td>\n",
       "      <td>0</td>\n",
       "    </tr>\n",
       "    <tr>\n",
       "      <th>997</th>\n",
       "      <td>Overall I was not impressed and would not go b...</td>\n",
       "      <td>0</td>\n",
       "    </tr>\n",
       "    <tr>\n",
       "      <th>998</th>\n",
       "      <td>The whole experience was underwhelming, and I ...</td>\n",
       "      <td>0</td>\n",
       "    </tr>\n",
       "    <tr>\n",
       "      <th>999</th>\n",
       "      <td>Then, as if I hadn't wasted enough of my life ...</td>\n",
       "      <td>0</td>\n",
       "    </tr>\n",
       "  </tbody>\n",
       "</table>\n",
       "<p>1000 rows × 2 columns</p>\n",
       "</div>"
      ],
      "text/plain": [
       "                                              sentence  label\n",
       "0                             Wow... Loved this place.      1\n",
       "1                                   Crust is not good.      0\n",
       "2            Not tasty and the texture was just nasty.      0\n",
       "3    Stopped by during the late May bank holiday of...      1\n",
       "4    The selection on the menu was great and so wer...      1\n",
       "..                                                 ...    ...\n",
       "995  I think food should have flavor and texture an...      0\n",
       "996                           Appetite instantly gone.      0\n",
       "997  Overall I was not impressed and would not go b...      0\n",
       "998  The whole experience was underwhelming, and I ...      0\n",
       "999  Then, as if I hadn't wasted enough of my life ...      0\n",
       "\n",
       "[1000 rows x 2 columns]"
      ]
     },
     "execution_count": 7,
     "metadata": {},
     "output_type": "execute_result"
    }
   ],
   "source": [
    "df_yelp"
   ]
  },
  {
   "cell_type": "code",
   "execution_count": 8,
   "id": "cb6b3d37",
   "metadata": {},
   "outputs": [
    {
     "name": "stdout",
     "output_type": "stream",
     "text": [
      "sentence    The worst was the salmon sashimi.\n",
      "label                                       0\n",
      "Name: 29, dtype: object\n"
     ]
    }
   ],
   "source": [
    "# to look at the 30th review\n",
    "print(df_yelp.iloc[29])"
   ]
  },
  {
   "cell_type": "code",
   "execution_count": 9,
   "id": "b0bb53d1",
   "metadata": {},
   "outputs": [
    {
     "name": "stderr",
     "output_type": "stream",
     "text": [
      "/share/pkg.7/python3/3.8.10/install/lib/python3.8/site-packages/scipy-1.6.2-py3.8-linux-x86_64.egg/scipy/__init__.py:138: UserWarning: A NumPy version >=1.16.5 and <1.23.0 is required for this version of SciPy (detected version 1.23.4)\n",
      "  warnings.warn(f\"A NumPy version >={np_minversion} and <{np_maxversion} is required for this version of \"\n"
     ]
    }
   ],
   "source": [
    "from sklearn.model_selection import train_test_split"
   ]
  },
  {
   "cell_type": "code",
   "execution_count": 13,
   "id": "4e304ff7",
   "metadata": {},
   "outputs": [],
   "source": [
    "# pull out the sentences and labels alone\n",
    "yelp_sentences = df_yelp['sentence'].values\n",
    "yelp_labels = df_yelp['label'].values"
   ]
  },
  {
   "cell_type": "code",
   "execution_count": 14,
   "id": "d2462787",
   "metadata": {},
   "outputs": [],
   "source": [
    "# parallel assignment\n",
    "x, y = 12, 15"
   ]
  },
  {
   "cell_type": "code",
   "execution_count": 15,
   "id": "c20e016b",
   "metadata": {},
   "outputs": [
    {
     "name": "stdout",
     "output_type": "stream",
     "text": [
      "12\n",
      "15\n"
     ]
    }
   ],
   "source": [
    "print(x)\n",
    "print(y)"
   ]
  },
  {
   "cell_type": "code",
   "execution_count": 17,
   "id": "66d90124",
   "metadata": {},
   "outputs": [],
   "source": [
    "yelp_train, yelp_test, yelp_train_labels, yelp_test_labels = train_test_split(\n",
    "    yelp_sentences, yelp_labels,\n",
    "    test_size = .25, \n",
    "    random_state = 1000\n",
    ")"
   ]
  },
  {
   "cell_type": "code",
   "execution_count": 18,
   "id": "e2f85c14",
   "metadata": {},
   "outputs": [
    {
     "name": "stdout",
     "output_type": "stream",
     "text": [
      "Yelp training size: 750\n",
      "Yelp testing size: 250\n",
      "Third training sentence: Of all the dishes, the salmon was the best, but all were great. -- label: 1\n"
     ]
    }
   ],
   "source": [
    "print(\"Yelp training size:\", len(yelp_train))\n",
    "print(\"Yelp testing size:\", len(yelp_test))\n",
    "print(\"Third training sentence:\", yelp_train[2], \"-- label:\", yelp_train_labels[2])"
   ]
  },
  {
   "cell_type": "code",
   "execution_count": 19,
   "id": "46cfa571",
   "metadata": {},
   "outputs": [],
   "source": [
    "from sklearn.feature_extraction.text import CountVectorizer"
   ]
  },
  {
   "cell_type": "code",
   "execution_count": 20,
   "id": "41ebe685",
   "metadata": {},
   "outputs": [],
   "source": [
    "yelp_cvec = CountVectorizer()"
   ]
  },
  {
   "cell_type": "code",
   "execution_count": 21,
   "id": "b073a3ab",
   "metadata": {},
   "outputs": [
    {
     "data": {
      "text/plain": [
       "CountVectorizer()"
      ]
     },
     "execution_count": 21,
     "metadata": {},
     "output_type": "execute_result"
    }
   ],
   "source": [
    "yelp_cvec.fit(yelp_train)"
   ]
  },
  {
   "cell_type": "code",
   "execution_count": 22,
   "id": "ddd741cf",
   "metadata": {},
   "outputs": [
    {
     "name": "stdout",
     "output_type": "stream",
     "text": [
      "worst:    (0, 1692)\t1\n",
      "salmon:    (0, 1265)\t1\n"
     ]
    }
   ],
   "source": [
    "print(\"worst: \", yelp_cvec.transform(['worst']))\n",
    "print(\"salmon: \", yelp_cvec.transform(['salmon']))"
   ]
  },
  {
   "cell_type": "code",
   "execution_count": 24,
   "id": "71b88748",
   "metadata": {},
   "outputs": [
    {
     "name": "stdout",
     "output_type": "stream",
     "text": [
      "Number of unique words counted:  1714\n",
      "['above', 'absolute', 'absolutely', 'accident', 'accommodations', 'accordingly', 'accountant', 'ache', 'acknowledged', 'across', 'actual', 'actually', 'added', 'affordable', 'after', 'afternoon', 'again', 'ago', 'ahead', 'airport']\n"
     ]
    }
   ],
   "source": [
    "print(\"Number of unique words counted: \", len(yelp_cvec.get_feature_names()))\n",
    "print(yelp_cvec.get_feature_names()[20:40])"
   ]
  },
  {
   "cell_type": "code",
   "execution_count": 26,
   "id": "e6bfa7c3",
   "metadata": {},
   "outputs": [],
   "source": [
    "# rebuild the review sentences\n",
    "yelp_cv_train = yelp_cvec.transform(yelp_train)\n",
    "yelp_cv_test = yelp_cvec.transform(yelp_test)"
   ]
  },
  {
   "cell_type": "code",
   "execution_count": 27,
   "id": "1094e263",
   "metadata": {},
   "outputs": [
    {
     "name": "stdout",
     "output_type": "stream",
     "text": [
      "Original sentence:  The worst was the salmon sashimi.\n",
      "Transformed into a count vector representation:\n",
      "  (0, 1265)\t1\n",
      "  (0, 1272)\t1\n",
      "  (0, 1494)\t2\n",
      "  (0, 1634)\t1\n",
      "  (0, 1692)\t1\n"
     ]
    }
   ],
   "source": [
    "print(\"Original sentence: \", yelp_train[140])\n",
    "print(\"Transformed into a count vector representation:\")\n",
    "print(yelp_cv_train[140])"
   ]
  },
  {
   "cell_type": "code",
   "execution_count": 28,
   "id": "e5dcddf6",
   "metadata": {},
   "outputs": [
    {
     "data": {
      "text/plain": [
       "1265"
      ]
     },
     "execution_count": 28,
     "metadata": {},
     "output_type": "execute_result"
    }
   ],
   "source": [
    "yelp_cvec.vocabulary_['salmon']"
   ]
  },
  {
   "cell_type": "code",
   "execution_count": 30,
   "id": "41896e13",
   "metadata": {},
   "outputs": [],
   "source": [
    "yelp_reverse = {a: b for b, a in yelp_cvec.vocabulary_.items()}"
   ]
  },
  {
   "cell_type": "code",
   "execution_count": 31,
   "id": "5564450e",
   "metadata": {},
   "outputs": [
    {
     "data": {
      "text/plain": [
       "'salmon'"
      ]
     },
     "execution_count": 31,
     "metadata": {},
     "output_type": "execute_result"
    }
   ],
   "source": [
    "yelp_reverse[1265]"
   ]
  },
  {
   "cell_type": "code",
   "execution_count": 32,
   "id": "a891d5b1",
   "metadata": {},
   "outputs": [],
   "source": [
    "from sklearn.linear_model import LogisticRegression"
   ]
  },
  {
   "cell_type": "code",
   "execution_count": 33,
   "id": "4cde4725",
   "metadata": {},
   "outputs": [],
   "source": [
    "yelp_clf_logreg = LogisticRegression()"
   ]
  },
  {
   "cell_type": "code",
   "execution_count": 35,
   "id": "043217e0",
   "metadata": {},
   "outputs": [
    {
     "data": {
      "text/plain": [
       "LogisticRegression()"
      ]
     },
     "execution_count": 35,
     "metadata": {},
     "output_type": "execute_result"
    }
   ],
   "source": [
    "yelp_clf_logreg.fit(yelp_cv_train, yelp_train_labels)"
   ]
  },
  {
   "cell_type": "code",
   "execution_count": 36,
   "id": "040a12e4",
   "metadata": {},
   "outputs": [
    {
     "name": "stdout",
     "output_type": "stream",
     "text": [
      "Yelp: Accuracy on the training data: 0.9853\n",
      "Yelp: Accuracy on the testing data: 0.7960\n"
     ]
    }
   ],
   "source": [
    "# see how the trained classifier does on the training data and then the testing data\n",
    "training_score = yelp_clf_logreg.score(yelp_cv_train, yelp_train_labels)\n",
    "print(\"Yelp: Accuracy on the training data: {:.4f}\".format(training_score))\n",
    "testing_score = yelp_clf_logreg.score(yelp_cv_test, yelp_test_labels)\n",
    "print(\"Yelp: Accuracy on the testing data: {:.4f}\".format(testing_score))"
   ]
  },
  {
   "cell_type": "code",
   "execution_count": 37,
   "id": "41265e4b",
   "metadata": {},
   "outputs": [],
   "source": [
    "# compare to NLTK's NaiveBayesClassifier\n",
    "def convert_to_nltk(vec, sentences, labels):\n",
    "  feature_names = vec.get_feature_names()\n",
    "  feature_dicts = []\n",
    "  for i, s in enumerate(sentences):\n",
    "    feature_values = s.toarray()[0]\n",
    "    feature_dict = {feature_names[i]: feature_values[i] for i in range(len(feature_names))}\n",
    "    feature_dicts.append(feature_dict)\n",
    "  return list(zip(feature_dicts, labels))"
   ]
  },
  {
   "cell_type": "code",
   "execution_count": 38,
   "id": "1bea6eb5",
   "metadata": {},
   "outputs": [],
   "source": [
    "yelp_train_nltk = convert_to_nltk(yelp_cvec, yelp_cv_train, yelp_train_labels)\n",
    "yelp_test_nltk = convert_to_nltk(yelp_cvec, yelp_cv_test, yelp_test_labels)"
   ]
  },
  {
   "cell_type": "code",
   "execution_count": 39,
   "id": "4097ff2c",
   "metadata": {
    "collapsed": true
   },
   "outputs": [
    {
     "data": {
      "text/plain": [
       "({'00': 0,\n",
       "  '10': 0,\n",
       "  '100': 0,\n",
       "  '11': 0,\n",
       "  '12': 0,\n",
       "  '15': 0,\n",
       "  '1979': 0,\n",
       "  '20': 0,\n",
       "  '2007': 0,\n",
       "  '23': 0,\n",
       "  '30': 0,\n",
       "  '35': 0,\n",
       "  '40': 0,\n",
       "  '40min': 0,\n",
       "  '4ths': 0,\n",
       "  '5lb': 0,\n",
       "  '70': 0,\n",
       "  '90': 0,\n",
       "  '99': 0,\n",
       "  'about': 0,\n",
       "  'above': 0,\n",
       "  'absolute': 0,\n",
       "  'absolutely': 0,\n",
       "  'accident': 0,\n",
       "  'accommodations': 0,\n",
       "  'accordingly': 0,\n",
       "  'accountant': 0,\n",
       "  'ache': 0,\n",
       "  'acknowledged': 0,\n",
       "  'across': 0,\n",
       "  'actual': 0,\n",
       "  'actually': 0,\n",
       "  'added': 0,\n",
       "  'affordable': 0,\n",
       "  'after': 0,\n",
       "  'afternoon': 0,\n",
       "  'again': 0,\n",
       "  'ago': 0,\n",
       "  'ahead': 0,\n",
       "  'airport': 0,\n",
       "  'ala': 0,\n",
       "  'albondigas': 0,\n",
       "  'all': 0,\n",
       "  'allergy': 0,\n",
       "  'almonds': 0,\n",
       "  'almost': 0,\n",
       "  'alone': 0,\n",
       "  'also': 0,\n",
       "  'although': 0,\n",
       "  'always': 0,\n",
       "  'am': 0,\n",
       "  'amazing': 0,\n",
       "  'ambiance': 0,\n",
       "  'ambience': 0,\n",
       "  'amount': 0,\n",
       "  'ample': 0,\n",
       "  'an': 0,\n",
       "  'and': 0,\n",
       "  'angry': 0,\n",
       "  'annoying': 0,\n",
       "  'another': 0,\n",
       "  'any': 0,\n",
       "  'anything': 0,\n",
       "  'anytime': 0,\n",
       "  'anyway': 0,\n",
       "  'anyways': 0,\n",
       "  'apart': 0,\n",
       "  'apologize': 0,\n",
       "  'app': 0,\n",
       "  'appalling': 0,\n",
       "  'apparently': 0,\n",
       "  'appealing': 0,\n",
       "  'appetite': 0,\n",
       "  'appetizer': 0,\n",
       "  'appetizers': 0,\n",
       "  'apple': 0,\n",
       "  'are': 0,\n",
       "  'area': 0,\n",
       "  'aren': 0,\n",
       "  'around': 0,\n",
       "  'array': 0,\n",
       "  'arrived': 0,\n",
       "  'arrives': 0,\n",
       "  'arriving': 0,\n",
       "  'article': 0,\n",
       "  'as': 0,\n",
       "  'ask': 0,\n",
       "  'asked': 0,\n",
       "  'asking': 0,\n",
       "  'assure': 0,\n",
       "  'at': 0,\n",
       "  'ate': 0,\n",
       "  'atmosphere': 0,\n",
       "  'atrocious': 0,\n",
       "  'attached': 0,\n",
       "  'attack': 0,\n",
       "  'attention': 0,\n",
       "  'attentive': 0,\n",
       "  'attitudes': 0,\n",
       "  'auju': 0,\n",
       "  'authentic': 0,\n",
       "  'average': 0,\n",
       "  'avocado': 0,\n",
       "  'avoid': 0,\n",
       "  'avoided': 0,\n",
       "  'away': 0,\n",
       "  'awesome': 0,\n",
       "  'awful': 0,\n",
       "  'awkward': 0,\n",
       "  'awkwardly': 0,\n",
       "  'ayce': 0,\n",
       "  'az': 0,\n",
       "  'baba': 0,\n",
       "  'baby': 0,\n",
       "  'bachi': 0,\n",
       "  'back': 0,\n",
       "  'bacon': 0,\n",
       "  'bad': 0,\n",
       "  'bagels': 0,\n",
       "  'bakery': 0,\n",
       "  'baklava': 0,\n",
       "  'bamboo': 0,\n",
       "  'banana': 0,\n",
       "  'bar': 0,\n",
       "  'bare': 0,\n",
       "  'barely': 1,\n",
       "  'bargain': 0,\n",
       "  'bars': 0,\n",
       "  'bartender': 0,\n",
       "  'bartenders': 0,\n",
       "  'basically': 0,\n",
       "  'bathroom': 0,\n",
       "  'bathrooms': 0,\n",
       "  'batter': 0,\n",
       "  'bay': 0,\n",
       "  'bbq': 0,\n",
       "  'be': 0,\n",
       "  'bean': 0,\n",
       "  'beans': 0,\n",
       "  'beat': 0,\n",
       "  'beateous': 0,\n",
       "  'beautiful': 0,\n",
       "  'beautifully': 0,\n",
       "  'because': 0,\n",
       "  'beef': 0,\n",
       "  'been': 1,\n",
       "  'beer': 0,\n",
       "  'before': 0,\n",
       "  'begin': 0,\n",
       "  'behind': 0,\n",
       "  'being': 0,\n",
       "  'believe': 0,\n",
       "  'belly': 0,\n",
       "  'below': 0,\n",
       "  'besides': 0,\n",
       "  'best': 0,\n",
       "  'better': 0,\n",
       "  'between': 0,\n",
       "  'beyond': 0,\n",
       "  'big': 0,\n",
       "  'bigger': 0,\n",
       "  'biggest': 0,\n",
       "  'bill': 0,\n",
       "  'binge': 0,\n",
       "  'bird': 0,\n",
       "  'biscuit': 0,\n",
       "  'biscuits': 0,\n",
       "  'bit': 0,\n",
       "  'bitches': 0,\n",
       "  'bite': 0,\n",
       "  'blah': 0,\n",
       "  'bland': 0,\n",
       "  'blandest': 0,\n",
       "  'blanket': 0,\n",
       "  'block': 0,\n",
       "  'bloddy': 0,\n",
       "  'bloodiest': 0,\n",
       "  'bloody': 0,\n",
       "  'blow': 0,\n",
       "  'blown': 0,\n",
       "  'blue': 0,\n",
       "  'boba': 0,\n",
       "  'boiled': 0,\n",
       "  'bone': 0,\n",
       "  'book': 0,\n",
       "  'boot': 0,\n",
       "  'boring': 0,\n",
       "  'both': 0,\n",
       "  'bother': 0,\n",
       "  'bottom': 0,\n",
       "  'bouchon': 0,\n",
       "  'bought': 0,\n",
       "  'bowl': 0,\n",
       "  'box': 0,\n",
       "  'boy': 0,\n",
       "  'boyfriend': 0,\n",
       "  'boys': 0,\n",
       "  'bread': 0,\n",
       "  'break': 0,\n",
       "  'breakfast': 0,\n",
       "  'brick': 0,\n",
       "  'bring': 1,\n",
       "  'brings': 0,\n",
       "  'brisket': 0,\n",
       "  'brought': 0,\n",
       "  'brownish': 0,\n",
       "  'brunch': 0,\n",
       "  'bruschetta': 0,\n",
       "  'brushfire': 0,\n",
       "  'bucks': 0,\n",
       "  'buffet': 0,\n",
       "  'buffets': 0,\n",
       "  'building': 0,\n",
       "  'buldogis': 0,\n",
       "  'bunch': 0,\n",
       "  'burger': 0,\n",
       "  'burgers': 0,\n",
       "  'burned': 0,\n",
       "  'burrittos': 0,\n",
       "  'bus': 0,\n",
       "  'business': 0,\n",
       "  'businesses': 0,\n",
       "  'busy': 0,\n",
       "  'but': 0,\n",
       "  'butter': 0,\n",
       "  'buying': 0,\n",
       "  'by': 0,\n",
       "  'bye': 0,\n",
       "  'caballero': 0,\n",
       "  'cafe': 0,\n",
       "  'café': 0,\n",
       "  'cake': 0,\n",
       "  'cakes': 0,\n",
       "  'calamari': 0,\n",
       "  'calligraphy': 0,\n",
       "  'callings': 0,\n",
       "  'came': 0,\n",
       "  'camelback': 0,\n",
       "  'can': 0,\n",
       "  'cannoli': 0,\n",
       "  'cannot': 0,\n",
       "  'cant': 0,\n",
       "  'cape': 0,\n",
       "  'capers': 0,\n",
       "  'car': 0,\n",
       "  'carbs': 0,\n",
       "  'care': 0,\n",
       "  'caring': 0,\n",
       "  'carly': 0,\n",
       "  'carpaccio': 0,\n",
       "  'cart': 0,\n",
       "  'cartel': 0,\n",
       "  'cash': 0,\n",
       "  'cashew': 0,\n",
       "  'cashier': 0,\n",
       "  'casino': 0,\n",
       "  'caterpillar': 0,\n",
       "  'caught': 0,\n",
       "  'cavier': 0,\n",
       "  'changing': 0,\n",
       "  'char': 0,\n",
       "  'charcoal': 0,\n",
       "  'charge': 0,\n",
       "  'cheated': 0,\n",
       "  'check': 0,\n",
       "  'checked': 0,\n",
       "  'cheek': 0,\n",
       "  'cheese': 0,\n",
       "  'cheeseburger': 0,\n",
       "  'cheesecurds': 0,\n",
       "  'chef': 0,\n",
       "  'chefs': 0,\n",
       "  'chewy': 0,\n",
       "  'chicken': 0,\n",
       "  'chickens': 0,\n",
       "  'chinese': 0,\n",
       "  'chip': 0,\n",
       "  'chipolte': 0,\n",
       "  'chipotle': 0,\n",
       "  'chips': 0,\n",
       "  'chocolate': 0,\n",
       "  'choose': 0,\n",
       "  'choux': 0,\n",
       "  'chow': 0,\n",
       "  'christmas': 0,\n",
       "  'circumstances': 0,\n",
       "  'claimed': 0,\n",
       "  'class': 0,\n",
       "  'classic': 0,\n",
       "  'classics': 0,\n",
       "  'clean': 0,\n",
       "  'close': 0,\n",
       "  'closed': 0,\n",
       "  'club': 0,\n",
       "  'clue': 0,\n",
       "  'cocktail': 0,\n",
       "  'cocktails': 0,\n",
       "  'coconut': 0,\n",
       "  'cod': 0,\n",
       "  'coffee': 0,\n",
       "  'cold': 0,\n",
       "  'college': 0,\n",
       "  'color': 0,\n",
       "  'combination': 0,\n",
       "  'combo': 0,\n",
       "  'combos': 0,\n",
       "  'come': 0,\n",
       "  'comfortable': 0,\n",
       "  'coming': 0,\n",
       "  'common': 0,\n",
       "  'companions': 0,\n",
       "  'company': 0,\n",
       "  'complain': 0,\n",
       "  'complaints': 0,\n",
       "  'complete': 0,\n",
       "  'completely': 0,\n",
       "  'compliments': 0,\n",
       "  'con': 0,\n",
       "  'concept': 0,\n",
       "  'concern': 0,\n",
       "  'conclusion': 0,\n",
       "  'condiment': 0,\n",
       "  'consider': 0,\n",
       "  'considering': 0,\n",
       "  'constructed': 0,\n",
       "  'contain': 0,\n",
       "  'convenient': 0,\n",
       "  'cooked': 0,\n",
       "  'cooking': 0,\n",
       "  'cool': 0,\n",
       "  'corn': 0,\n",
       "  'corporation': 0,\n",
       "  'correct': 0,\n",
       "  'correction': 0,\n",
       "  'costco': 0,\n",
       "  'cotta': 0,\n",
       "  'could': 0,\n",
       "  'couldn': 0,\n",
       "  'count': 0,\n",
       "  'couple': 0,\n",
       "  'couples': 0,\n",
       "  'coupons': 0,\n",
       "  'course': 0,\n",
       "  'court': 0,\n",
       "  'cover': 0,\n",
       "  'covered': 0,\n",
       "  'covers': 0,\n",
       "  'cow': 0,\n",
       "  'crab': 0,\n",
       "  'cranberry': 0,\n",
       "  'crawfish': 0,\n",
       "  'crazy': 0,\n",
       "  'cream': 0,\n",
       "  'creamy': 0,\n",
       "  'crema': 0,\n",
       "  'crepe': 0,\n",
       "  'crisp': 0,\n",
       "  'crispy': 0,\n",
       "  'croutons': 0,\n",
       "  'crowds': 0,\n",
       "  'crumby': 0,\n",
       "  'crust': 0,\n",
       "  'crusty': 0,\n",
       "  'crêpe': 0,\n",
       "  'cuisine': 0,\n",
       "  'curry': 0,\n",
       "  'customer': 0,\n",
       "  'customers': 0,\n",
       "  'customize': 0,\n",
       "  'cut': 0,\n",
       "  'cute': 0,\n",
       "  'daily': 0,\n",
       "  'damn': 0,\n",
       "  'dark': 0,\n",
       "  'daughter': 0,\n",
       "  'day': 0,\n",
       "  'dead': 0,\n",
       "  'deal': 0,\n",
       "  'dealing': 0,\n",
       "  'decent': 0,\n",
       "  'decided': 0,\n",
       "  'decor': 0,\n",
       "  'decorated': 0,\n",
       "  'dedicated': 0,\n",
       "  'deep': 0,\n",
       "  'deeply': 0,\n",
       "  'def': 0,\n",
       "  'definately': 0,\n",
       "  'definitely': 0,\n",
       "  'degree': 0,\n",
       "  'del': 0,\n",
       "  'delicate': 0,\n",
       "  'delicioso': 0,\n",
       "  'delicious': 0,\n",
       "  'deliciously': 0,\n",
       "  'delight': 0,\n",
       "  'delightful': 0,\n",
       "  'delights': 0,\n",
       "  'delish': 0,\n",
       "  'deliver': 0,\n",
       "  'denny': 0,\n",
       "  'descriptions': 0,\n",
       "  'deserves': 0,\n",
       "  'desired': 0,\n",
       "  'despicable': 0,\n",
       "  'despite': 0,\n",
       "  'dessert': 0,\n",
       "  'desserts': 0,\n",
       "  'deuchebaggery': 0,\n",
       "  'devine': 0,\n",
       "  'did': 0,\n",
       "  'didn': 0,\n",
       "  'die': 0,\n",
       "  'different': 0,\n",
       "  'dime': 0,\n",
       "  'dine': 0,\n",
       "  'dining': 0,\n",
       "  'dinner': 0,\n",
       "  'dinners': 0,\n",
       "  'dipping': 0,\n",
       "  'dirt': 0,\n",
       "  'dirty': 0,\n",
       "  'disappoint': 0,\n",
       "  'disappointed': 0,\n",
       "  'disappointing': 0,\n",
       "  'disappointment': 0,\n",
       "  'disapppointment': 0,\n",
       "  'disaster': 0,\n",
       "  'disbelief': 0,\n",
       "  'disgrace': 0,\n",
       "  'disgraceful': 0,\n",
       "  'disgust': 0,\n",
       "  'disgusting': 0,\n",
       "  'dish': 0,\n",
       "  'dishes': 0,\n",
       "  'dispenser': 0,\n",
       "  'disrespected': 0,\n",
       "  'diverse': 0,\n",
       "  'do': 0,\n",
       "  'does': 0,\n",
       "  'dog': 0,\n",
       "  'doing': 0,\n",
       "  'dollars': 0,\n",
       "  'don': 0,\n",
       "  'done': 0,\n",
       "  'dont': 0,\n",
       "  'door': 0,\n",
       "  'dos': 0,\n",
       "  'double': 0,\n",
       "  'doubt': 0,\n",
       "  'douchey': 0,\n",
       "  'dough': 0,\n",
       "  'doughy': 0,\n",
       "  'down': 0,\n",
       "  'downright': 0,\n",
       "  'downside': 0,\n",
       "  'downtown': 0,\n",
       "  'drawing': 0,\n",
       "  'dreamed': 0,\n",
       "  'drenched': 0,\n",
       "  'dressed': 0,\n",
       "  'dressing': 0,\n",
       "  'dried': 0,\n",
       "  'driest': 0,\n",
       "  'drink': 0,\n",
       "  'drinking': 0,\n",
       "  'drinks': 0,\n",
       "  'dripping': 0,\n",
       "  'drive': 0,\n",
       "  'drunk': 0,\n",
       "  'dry': 0,\n",
       "  'duck': 0,\n",
       "  'due': 0,\n",
       "  'duo': 0,\n",
       "  'during': 0,\n",
       "  'dusted': 0,\n",
       "  'dylan': 0,\n",
       "  'each': 0,\n",
       "  'eat': 0,\n",
       "  'eaten': 0,\n",
       "  'eating': 0,\n",
       "  'edible': 0,\n",
       "  'edinburgh': 0,\n",
       "  'editing': 0,\n",
       "  'eel': 0,\n",
       "  'eew': 0,\n",
       "  'egg': 0,\n",
       "  'eggplant': 0,\n",
       "  'eggs': 0,\n",
       "  'either': 0,\n",
       "  'elk': 0,\n",
       "  'else': 0,\n",
       "  'elsewhere': 0,\n",
       "  'email': 0,\n",
       "  'employee': 0,\n",
       "  'employees': 0,\n",
       "  'empty': 0,\n",
       "  'end': 0,\n",
       "  'ended': 0,\n",
       "  'english': 0,\n",
       "  'enjoy': 0,\n",
       "  'enjoyable': 0,\n",
       "  'enjoyed': 0,\n",
       "  'enough': 0,\n",
       "  'ensued': 0,\n",
       "  'enthusiastic': 0,\n",
       "  'entire': 0,\n",
       "  'entrees': 0,\n",
       "  'equally': 0,\n",
       "  'especially': 0,\n",
       "  'establishment': 0,\n",
       "  'etc': 0,\n",
       "  'ethic': 0,\n",
       "  'eve': 0,\n",
       "  'even': 0,\n",
       "  'evening': 0,\n",
       "  'events': 0,\n",
       "  'ever': 0,\n",
       "  'every': 0,\n",
       "  'everyone': 0,\n",
       "  'everything': 0,\n",
       "  'everywhere': 0,\n",
       "  'excalibur': 0,\n",
       "  'exceeding': 0,\n",
       "  'excellent': 0,\n",
       "  'excuse': 0,\n",
       "  'expanded': 0,\n",
       "  'expect': 0,\n",
       "  'expectations': 0,\n",
       "  'expected': 0,\n",
       "  'expensive': 0,\n",
       "  'experience': 0,\n",
       "  'experienced': 0,\n",
       "  'experiencing': 0,\n",
       "  'exquisite': 0,\n",
       "  'extensive': 0,\n",
       "  'extra': 0,\n",
       "  'extraordinary': 0,\n",
       "  'extremely': 0,\n",
       "  'fabulous': 0,\n",
       "  'fact': 0,\n",
       "  'fail': 0,\n",
       "  'fails': 0,\n",
       "  'fairly': 0,\n",
       "  'falafels': 0,\n",
       "  'falling': 0,\n",
       "  'familiar': 0,\n",
       "  'family': 0,\n",
       "  'fancy': 0,\n",
       "  'fantastic': 0,\n",
       "  'far': 0,\n",
       "  'fare': 0,\n",
       "  'fast': 0,\n",
       "  'fat': 0,\n",
       "  'fav': 0,\n",
       "  'favorite': 0,\n",
       "  'fear': 0,\n",
       "  'feel': 0,\n",
       "  'feeling': 0,\n",
       "  'feels': 0,\n",
       "  'fell': 0,\n",
       "  'fella': 0,\n",
       "  'felt': 0,\n",
       "  'few': 0,\n",
       "  'fiancé': 0,\n",
       "  'filet': 0,\n",
       "  'fill': 0,\n",
       "  'fillet': 0,\n",
       "  'filling': 0,\n",
       "  'final': 0,\n",
       "  'finally': 0,\n",
       "  'find': 0,\n",
       "  'fine': 0,\n",
       "  'finger': 0,\n",
       "  'finish': 0,\n",
       "  'fireball': 0,\n",
       "  'firehouse': 0,\n",
       "  'first': 0,\n",
       "  'fish': 0,\n",
       "  'five': 0,\n",
       "  'flair': 0,\n",
       "  'flat': 0,\n",
       "  'flavor': 0,\n",
       "  'flavored': 0,\n",
       "  'flavorful': 0,\n",
       "  'flavorless': 0,\n",
       "  'flavors': 0,\n",
       "  'flavourful': 0,\n",
       "  'flirting': 0,\n",
       "  'flop': 0,\n",
       "  'flower': 0,\n",
       "  'fluffy': 0,\n",
       "  'fly': 0,\n",
       "  'fo': 0,\n",
       "  'focused': 0,\n",
       "  'folks': 0,\n",
       "  'fondue': 0,\n",
       "  'food': 1,\n",
       "  'foods': 0,\n",
       "  'foot': 0,\n",
       "  'for': 1,\n",
       "  'forever': 0,\n",
       "  'forgetting': 0,\n",
       "  'forth': 0,\n",
       "  'forty': 0,\n",
       "  'forward': 0,\n",
       "  'found': 0,\n",
       "  'four': 0,\n",
       "  'francisco': 0,\n",
       "  'frenchman': 0,\n",
       "  'fresh': 0,\n",
       "  'fried': 0,\n",
       "  'friend': 0,\n",
       "  'friendly': 0,\n",
       "  'friends': 0,\n",
       "  'fries': 0,\n",
       "  'from': 0,\n",
       "  'front': 0,\n",
       "  'frozen': 0,\n",
       "  'fruit': 0,\n",
       "  'fry': 0,\n",
       "  'fs': 0,\n",
       "  'full': 0,\n",
       "  'fun': 0,\n",
       "  'funny': 0,\n",
       "  'further': 0,\n",
       "  'furthermore': 0,\n",
       "  'ganoush': 0,\n",
       "  'garden': 0,\n",
       "  'garlic': 0,\n",
       "  'gas': 0,\n",
       "  'gave': 0,\n",
       "  'gc': 0,\n",
       "  'gem': 0,\n",
       "  'generic': 0,\n",
       "  'generous': 0,\n",
       "  'genuinely': 0,\n",
       "  'get': 0,\n",
       "  'getting': 0,\n",
       "  'giant': 0,\n",
       "  'girlfriend': 0,\n",
       "  'give': 0,\n",
       "  'given': 0,\n",
       "  'giving': 0,\n",
       "  'glad': 0,\n",
       "  'glass': 0,\n",
       "  'gloves': 0,\n",
       "  'go': 0,\n",
       "  'goat': 0,\n",
       "  'godfathers': 0,\n",
       "  'going': 0,\n",
       "  'gold': 0,\n",
       "  'golden': 0,\n",
       "  'gone': 0,\n",
       "  'good': 0,\n",
       "  'google': 0,\n",
       "  'gordon': 0,\n",
       "  'got': 0,\n",
       "  'gotten': 0,\n",
       "  'gourmet': 0,\n",
       "  'grain': 0,\n",
       "  'grandmother': 0,\n",
       "  'gratuity': 0,\n",
       "  'grease': 0,\n",
       "  'greasy': 0,\n",
       "  'great': 0,\n",
       "  'greatest': 0,\n",
       "  'greedy': 0,\n",
       "  'greek': 0,\n",
       "  'green': 0,\n",
       "  'greens': 0,\n",
       "  'greeted': 0,\n",
       "  'grill': 0,\n",
       "  'grilled': 0,\n",
       "  'gringos': 0,\n",
       "  'gristle': 0,\n",
       "  'gross': 0,\n",
       "  'grossed': 0,\n",
       "  'ground': 0,\n",
       "  'group': 0,\n",
       "  'groups': 0,\n",
       "  'grow': 0,\n",
       "  'guacamole': 0,\n",
       "  'guess': 0,\n",
       "  'guests': 0,\n",
       "  'guy': 0,\n",
       "  'guys': 0,\n",
       "  'gyro': 0,\n",
       "  'gyros': 0,\n",
       "  'ha': 0,\n",
       "  'had': 0,\n",
       "  'hadn': 0,\n",
       "  'half': 0,\n",
       "  'halibut': 0,\n",
       "  'hamburger': 0,\n",
       "  'han': 0,\n",
       "  'hand': 0,\n",
       "  'handed': 0,\n",
       "  'handled': 0,\n",
       "  'handling': 0,\n",
       "  'handmade': 0,\n",
       "  'hands': 0,\n",
       "  'happened': 0,\n",
       "  'happier': 0,\n",
       "  'happy': 0,\n",
       "  'hard': 0,\n",
       "  'has': 0,\n",
       "  'hasn': 0,\n",
       "  'hated': 0,\n",
       "  'haunt': 0,\n",
       "  'have': 1,\n",
       "  'having': 0,\n",
       "  'he': 0,\n",
       "  'head': 0,\n",
       "  'heads': 0,\n",
       "  'healthy': 0,\n",
       "  'heard': 0,\n",
       "  'heart': 0,\n",
       "  'hearts': 0,\n",
       "  'heat': 0,\n",
       "  'heimer': 0,\n",
       "  'help': 0,\n",
       "  'helped': 0,\n",
       "  'helpful': 0,\n",
       "  'her': 0,\n",
       "  'here': 0,\n",
       "  'hi': 0,\n",
       "  'high': 0,\n",
       "  'highlighted': 0,\n",
       "  'highly': 0,\n",
       "  'hilarious': 0,\n",
       "  'him': 0,\n",
       "  'hip': 0,\n",
       "  'hiro': 0,\n",
       "  'his': 0,\n",
       "  'hit': 0,\n",
       "  'hits': 0,\n",
       "  'hole': 0,\n",
       "  'home': 0,\n",
       "  'homemade': 0,\n",
       "  'honeslty': 0,\n",
       "  'honest': 0,\n",
       "  'honestly': 0,\n",
       "  'honor': 0,\n",
       "  'hooked': 0,\n",
       "  'hope': 0,\n",
       "  'hopes': 0,\n",
       "  'horrible': 0,\n",
       "  'host': 0,\n",
       "  'hostess': 0,\n",
       "  'hot': 0,\n",
       "  'hottest': 0,\n",
       "  'hour': 0,\n",
       "  'hours': 0,\n",
       "  'house': 0,\n",
       "  'how': 0,\n",
       "  'however': 0,\n",
       "  'huevos': 0,\n",
       "  'huge': 0,\n",
       "  'human': 0,\n",
       "  'humiliated': 0,\n",
       "  'hummus': 0,\n",
       "  'hungry': 0,\n",
       "  'hurry': 0,\n",
       "  'husband': 0,\n",
       "  'hut': 0,\n",
       "  'ians': 0,\n",
       "  'ice': 0,\n",
       "  'iced': 0,\n",
       "  'if': 0,\n",
       "  'ignore': 0,\n",
       "  'ignored': 0,\n",
       "  'im': 0,\n",
       "  'imagination': 0,\n",
       "  'imaginative': 0,\n",
       "  'imagine': 0,\n",
       "  'immediately': 0,\n",
       "  'impeccable': 0,\n",
       "  'impressed': 0,\n",
       "  'impressive': 0,\n",
       "  'in': 0,\n",
       "  'incredible': 0,\n",
       "  'indian': 0,\n",
       "  'indicate': 0,\n",
       "  'indoor': 0,\n",
       "  'inexpensive': 0,\n",
       "  'inflate': 0,\n",
       "  'informative': 0,\n",
       "  'ingredients': 0,\n",
       "  'insanely': 0,\n",
       "  'inside': 0,\n",
       "  'inspired': 0,\n",
       "  'instantly': 0,\n",
       "  'instead': 0,\n",
       "  'insulted': 0,\n",
       "  'insults': 0,\n",
       "  'interesting': 0,\n",
       "  'into': 0,\n",
       "  'ironman': 0,\n",
       "  'is': 0,\n",
       "  'isn': 0,\n",
       "  'it': 2,\n",
       "  'italian': 0,\n",
       "  'item': 0,\n",
       "  'its': 0,\n",
       "  'itself': 0,\n",
       "  'jalapeno': 0,\n",
       "  'jenni': 0,\n",
       "  'job': 0,\n",
       "  'joey': 0,\n",
       "  'join': 0,\n",
       "  'joint': 0,\n",
       "  'joke': 0,\n",
       "  'joy': 0,\n",
       "  'judge': 0,\n",
       "  'judging': 0,\n",
       "  'juice': 0,\n",
       "  'juries': 0,\n",
       "  'just': 0,\n",
       "  'kabuki': 0,\n",
       "  'kept': 0,\n",
       "  'key': 0,\n",
       "  'khao': 0,\n",
       "  'kiddos': 0,\n",
       "  'kids': 0,\n",
       "  'kind': 0,\n",
       "  'know': 0,\n",
       "  'known': 0,\n",
       "  'lack': 0,\n",
       "  'lacked': 0,\n",
       "  'lacking': 0,\n",
       "  'ladies': 0,\n",
       "  'lady': 0,\n",
       "  'large': 0,\n",
       "  'largely': 0,\n",
       "  'larger': 0,\n",
       "  'last': 0,\n",
       "  'lastly': 0,\n",
       "  'later': 0,\n",
       "  'lawyers': 0,\n",
       "  'least': 0,\n",
       "  'leather': 0,\n",
       "  'leave': 0,\n",
       "  'leaves': 0,\n",
       "  'left': 0,\n",
       "  'leftover': 0,\n",
       "  'legit': 0,\n",
       "  'legs': 0,\n",
       "  'lemon': 0,\n",
       "  'let': 0,\n",
       "  'letdown': 0,\n",
       "  'letting': 0,\n",
       "  'lettuce': 0,\n",
       "  'level': 0,\n",
       "  'life': 0,\n",
       "  'light': 0,\n",
       "  'lighter': 0,\n",
       "  'lightly': 0,\n",
       "  'like': 0,\n",
       "  'liked': 0,\n",
       "  'limited': 0,\n",
       "  'lined': 0,\n",
       "  'list': 0,\n",
       "  'listed': 0,\n",
       "  'literally': 0,\n",
       "  'little': 0,\n",
       "  'live': 0,\n",
       "  'lived': 0,\n",
       "  'll': 0,\n",
       "  'lobster': 0,\n",
       "  'location': 0,\n",
       "  'long': 0,\n",
       "  'look': 0,\n",
       "  'looked': 0,\n",
       "  'lordy': 0,\n",
       "  'lost': 0,\n",
       "  'lot': 0,\n",
       "  'lots': 0,\n",
       "  'love': 0,\n",
       "  'loved': 0,\n",
       "  'lovely': 0,\n",
       "  'lover': 0,\n",
       "  'lovers': 0,\n",
       "  'loves': 0,\n",
       "  'loving': 0,\n",
       "  'low': 0,\n",
       "  'lox': 0,\n",
       "  'luke': 0,\n",
       "  'lukewarm': 1,\n",
       "  'lunch': 0,\n",
       "  'mac': 0,\n",
       "  'macarons': 0,\n",
       "  'made': 0,\n",
       "  'madhouse': 0,\n",
       "  'madison': 0,\n",
       "  'magazine': 0,\n",
       "  'maine': 0,\n",
       "  'mains': 0,\n",
       "  'make': 0,\n",
       "  'managed': 0,\n",
       "  'management': 0,\n",
       "  'manager': 0,\n",
       "  'mandalay': 0,\n",
       "  'many': 0,\n",
       "  'margaritas': 0,\n",
       "  'maria': 0,\n",
       "  'market': 0,\n",
       "  'marrow': 0,\n",
       "  'mary': 0,\n",
       "  'may': 0,\n",
       "  'maybe': 0,\n",
       "  'mayo': 0,\n",
       "  'me': 0,\n",
       "  'meal': 0,\n",
       "  'meals': 0,\n",
       "  'means': 0,\n",
       "  'meat': 0,\n",
       "  'meatballs': 0,\n",
       "  'meats': 0,\n",
       "  'mediocre': 0,\n",
       "  'mediterranean': 0,\n",
       "  'medium': 0,\n",
       "  'meet': 0,\n",
       "  'meh': 0,\n",
       "  'mein': 0,\n",
       "  'mellow': 0,\n",
       "  'melt': 0,\n",
       "  'melted': 0,\n",
       "  'memory': 0,\n",
       "  'mention': 0,\n",
       "  'menu': 0,\n",
       "  'menus': 0,\n",
       "  'mesquite': 0,\n",
       "  'mess': 0,\n",
       "  'metro': 0,\n",
       "  'mexican': 0,\n",
       "  'mgm': 0,\n",
       "  'middle': 0,\n",
       "  'might': 0,\n",
       "  'mile': 0,\n",
       "  'milk': 0,\n",
       "  'milkshake': 0,\n",
       "  'min': 0,\n",
       "  'mind': 0,\n",
       "  'minutes': 0,\n",
       "  'mirage': 0,\n",
       "  'miss': 0,\n",
       "  'missed': 0,\n",
       "  'missing': 0,\n",
       "  'mistake': 0,\n",
       "  'mixed': 0,\n",
       "  'mmmm': 0,\n",
       "  'moist': 0,\n",
       "  'mom': 0,\n",
       "  'money': 0,\n",
       "  'monster': 0,\n",
       "  'months': 0,\n",
       "  'moods': 0,\n",
       "  'more': 0,\n",
       "  'mortified': 0,\n",
       "  'mostly': 0,\n",
       "  'mouth': 0,\n",
       "  'mouthful': 0,\n",
       "  'movies': 0,\n",
       "  'moz': 0,\n",
       "  'mozzarella': 0,\n",
       "  'much': 0,\n",
       "  'muffin': 0,\n",
       "  'multi': 0,\n",
       "  'multiple': 0,\n",
       "  'mushroom': 0,\n",
       "  'mushrooms': 0,\n",
       "  'music': 0,\n",
       "  'must': 1,\n",
       "  'my': 0,\n",
       "  'myself': 0,\n",
       "  'nachos': 0,\n",
       "  'name': 0,\n",
       "  'nan': 0,\n",
       "  'nasty': 0,\n",
       "  'nay': 0,\n",
       "  'neat': 0,\n",
       "  'need': 0,\n",
       "  'needed': 0,\n",
       "  'needless': 0,\n",
       "  'needs': 0,\n",
       "  'negligent': 0,\n",
       "  'neighborhood': 0,\n",
       "  'neither': 0,\n",
       "  'never': 0,\n",
       "  'new': 0,\n",
       "  'next': 0,\n",
       "  'nice': 0,\n",
       "  'nicest': 0,\n",
       "  'night': 0,\n",
       "  'ninja': 0,\n",
       "  'no': 0,\n",
       "  'nobu': 0,\n",
       "  'noca': 0,\n",
       "  'non': 0,\n",
       "  ...},\n",
       " 0)"
      ]
     },
     "execution_count": 39,
     "metadata": {},
     "output_type": "execute_result"
    }
   ],
   "source": [
    "yelp_train_nltk[0]"
   ]
  },
  {
   "cell_type": "code",
   "execution_count": 40,
   "id": "1df9a6bd",
   "metadata": {},
   "outputs": [],
   "source": [
    "import nltk\n",
    "yelp_clf_nltk = nltk.NaiveBayesClassifier.train(yelp_train_nltk)"
   ]
  },
  {
   "cell_type": "code",
   "execution_count": 41,
   "id": "2f132b60",
   "metadata": {},
   "outputs": [
    {
     "name": "stdout",
     "output_type": "stream",
     "text": [
      "Yelp NLTK NB training accuracy:  0.968\n",
      "Yelp NLtK NB testing accuracy:  0.744\n"
     ]
    }
   ],
   "source": [
    "print(\"Yelp NLTK NB training accuracy: \", nltk.classify.accuracy(yelp_clf_nltk, yelp_train_nltk))\n",
    "print(\"Yelp NLtK NB testing accuracy: \", nltk.classify.accuracy(yelp_clf_nltk, yelp_test_nltk))\n"
   ]
  },
  {
   "cell_type": "code",
   "execution_count": 42,
   "id": "f7e867a0",
   "metadata": {},
   "outputs": [],
   "source": [
    "import matplotlib.pyplot as plt\n",
    "\n",
    "def draw_neural_net(ax, left, right, bottom, top, layer_sizes):\n",
    "    '''\n",
    "    Draw a neural network cartoon using matplotilb.\n",
    "    \n",
    "    :usage:\n",
    "        >>> fig = plt.figure(figsize=(12, 12))\n",
    "        >>> draw_neural_net(fig.gca(), .1, .9, .1, .9, [4, 7, 2])\n",
    "    \n",
    "    :parameters:\n",
    "        - ax : matplotlib.axes.AxesSubplot\n",
    "            The axes on which to plot the cartoon (get e.g. by plt.gca())\n",
    "        - left : float\n",
    "            The center of the leftmost node(s) will be placed here\n",
    "        - right : float\n",
    "            The center of the rightmost node(s) will be placed here\n",
    "        - bottom : float\n",
    "            The center of the bottommost node(s) will be placed here\n",
    "        - top : float\n",
    "            The center of the topmost node(s) will be placed here\n",
    "        - layer_sizes : list of int\n",
    "            List of layer sizes, including input and output dimensionality\n",
    "    '''\n",
    "    n_layers = len(layer_sizes)\n",
    "    v_spacing = (top - bottom)/float(max(layer_sizes))\n",
    "    h_spacing = (right - left)/float(len(layer_sizes) - 1)\n",
    "    # Nodes\n",
    "    for n, layer_size in enumerate(layer_sizes):\n",
    "        layer_top = v_spacing*(layer_size - 1)/2. + (top + bottom)/2.\n",
    "        for m in range(layer_size):\n",
    "            circle = plt.Circle((n*h_spacing + left, layer_top - m*v_spacing), v_spacing/4.,\n",
    "                                color='w', ec='k', zorder=4)\n",
    "            ax.add_artist(circle)\n",
    "    # Edges\n",
    "    for n, (layer_size_a, layer_size_b) in enumerate(zip(layer_sizes[:-1], layer_sizes[1:])):\n",
    "        layer_top_a = v_spacing*(layer_size_a - 1)/2. + (top + bottom)/2.\n",
    "        layer_top_b = v_spacing*(layer_size_b - 1)/2. + (top + bottom)/2.\n",
    "        for m in range(layer_size_a):\n",
    "            for o in range(layer_size_b):\n",
    "                line = plt.Line2D([n*h_spacing + left, (n + 1)*h_spacing + left],\n",
    "                                  [layer_top_a - m*v_spacing, layer_top_b - o*v_spacing], c='k')\n",
    "                ax.add_artist(line)\n",
    "                "
   ]
  },
  {
   "cell_type": "code",
   "execution_count": 44,
   "id": "eacd1615",
   "metadata": {},
   "outputs": [
    {
     "data": {
      "image/png": "[encoded data removed]",
      "text/plain": [
       "<Figure size 360x360 with 1 Axes>"
      ]
     },
     "metadata": {
      "needs_background": "light"
     },
     "output_type": "display_data"
    }
   ],
   "source": [
    "fig = plt.figure(figsize=(5,5))\n",
    "ax = fig.gca()\n",
    "ax.axis('off')\n",
    "draw_neural_net(ax, .1, .9, .1, .9, [7, 1])"
   ]
  },
  {
   "cell_type": "code",
   "execution_count": 45,
   "id": "731906eb",
   "metadata": {},
   "outputs": [],
   "source": [
    "import keras"
   ]
  },
  {
   "cell_type": "code",
   "execution_count": 47,
   "id": "ec9a3cdd",
   "metadata": {},
   "outputs": [],
   "source": [
    "from keras.models import Sequential\n",
    "from keras import layers"
   ]
  },
  {
   "cell_type": "code",
   "execution_count": 48,
   "id": "d5f05eb1",
   "metadata": {},
   "outputs": [
    {
     "data": {
      "text/plain": [
       "'The food was barely lukewarm, so it must have been sitting waiting for the server to bring it out to us.'"
      ]
     },
     "execution_count": 48,
     "metadata": {},
     "output_type": "execute_result"
    }
   ],
   "source": [
    "yelp_train[0]"
   ]
  },
  {
   "cell_type": "code",
   "execution_count": 49,
   "id": "56a4f98b",
   "metadata": {},
   "outputs": [
    {
     "data": {
      "text/plain": [
       "<1x1714 sparse matrix of type '<class 'numpy.int64'>'\n",
       "\twith 18 stored elements in Compressed Sparse Row format>"
      ]
     },
     "execution_count": 49,
     "metadata": {},
     "output_type": "execute_result"
    }
   ],
   "source": [
    "yelp_cv_train[0]"
   ]
  },
  {
   "cell_type": "code",
   "execution_count": 51,
   "id": "493fcd6a",
   "metadata": {},
   "outputs": [
    {
     "name": "stdout",
     "output_type": "stream",
     "text": [
      "Vector (row) is a list 1714 numbers long: [0 0 0 ... 0 0 0]\n",
      "Column  125 (1): barely\n",
      "Column  145 (1): been\n",
      "Column  201 (1): bring\n",
      "Column  597 (1): food\n",
      "Column  600 (1): for\n",
      "Column  710 (1): have\n",
      "Column  801 (2): it\n",
      "Column  888 (1): lukewarm\n",
      "Column  973 (1): must\n",
      "Column 1042 (1): out\n",
      "Column 1308 (1): server\n",
      "Column 1345 (1): sitting\n",
      "Column 1360 (1): so\n",
      "Column 1494 (2): the\n",
      "Column 1524 (2): to\n",
      "Column 1587 (1): us\n",
      "Column 1622 (1): waiting\n",
      "Column 1634 (1): was\n"
     ]
    }
   ],
   "source": [
    "sentence_vector = yelp_cv_train[0].toarray()[0]\n",
    "print(\"Vector (row) is a list\", len(sentence_vector), \"numbers long:\", sentence_vector)\n",
    "for i, feature in enumerate(sentence_vector):\n",
    "  if feature > 0:\n",
    "    print(\"Column {:4} ({}): {}\".format(i, feature, yelp_reverse[i]))"
   ]
  },
  {
   "cell_type": "code",
   "execution_count": 52,
   "id": "3c15be2e",
   "metadata": {},
   "outputs": [
    {
     "name": "stdout",
     "output_type": "stream",
     "text": [
      "(750, 1714)\n"
     ]
    }
   ],
   "source": [
    "print(yelp_cv_train.shape)"
   ]
  },
  {
   "cell_type": "code",
   "execution_count": 53,
   "id": "791569df",
   "metadata": {},
   "outputs": [
    {
     "name": "stdout",
     "output_type": "stream",
     "text": [
      "1714\n"
     ]
    }
   ],
   "source": [
    "print(yelp_cv_train.shape[1])"
   ]
  },
  {
   "cell_type": "code",
   "execution_count": 54,
   "id": "732ad0ad",
   "metadata": {},
   "outputs": [],
   "source": [
    "# start a new model\n",
    "simple_model = Sequential()\n",
    "# 1714 input nodes\n",
    "in_layer_size = yelp_cv_train.shape[1]\n",
    "# add a layer that connects the input to a single output\n",
    "# output's decision is based on a sigmoid function\n",
    "simple_model.add(layers.Dense(1, input_dim=in_layer_size, activation='sigmoid'))"
   ]
  },
  {
   "cell_type": "code",
   "execution_count": 55,
   "id": "3aef96b3",
   "metadata": {},
   "outputs": [],
   "source": [
    "# tell the model how to optimize itself\n",
    "simple_model.compile(\n",
    "    loss='binary_crossentropy',\n",
    "    optimizer='adam',\n",
    "    metrics=['accuracy']\n",
    ")"
   ]
  },
  {
   "cell_type": "code",
   "execution_count": 56,
   "id": "c6eee853",
   "metadata": {},
   "outputs": [
    {
     "name": "stdout",
     "output_type": "stream",
     "text": [
      "Model: \"sequential\"\n",
      "_________________________________________________________________\n",
      " Layer (type)                Output Shape              Param #   \n",
      "=================================================================\n",
      " dense (Dense)               (None, 1)                 1715      \n",
      "                                                                 \n",
      "=================================================================\n",
      "Total params: 1,715\n",
      "Trainable params: 1,715\n",
      "Non-trainable params: 0\n",
      "_________________________________________________________________\n"
     ]
    }
   ],
   "source": [
    "simple_model.summary()"
   ]
  },
  {
   "cell_type": "code",
   "execution_count": 57,
   "id": "03889d56",
   "metadata": {},
   "outputs": [
    {
     "data": {
      "image/png": "[encoded data removed]",
      "text/plain": [
       "<Figure size 432x288 with 1 Axes>"
      ]
     },
     "metadata": {
      "needs_background": "light"
     },
     "output_type": "display_data"
    }
   ],
   "source": [
    "import math\n",
    "import numpy as np\n",
    "x = np.arange(-10., 10., 0.2)\n",
    "plt.plot(x,[1/(1+math.exp(-item)) for item in x])\n",
    "plt.show()"
   ]
  },
  {
   "cell_type": "code",
   "execution_count": 58,
   "id": "b94a8b77",
   "metadata": {},
   "outputs": [
    {
     "name": "stderr",
     "output_type": "stream",
     "text": [
      "/usr2/faculty/hagstrom/.local/lib/python3.8/site-packages/tensorflow/python/framework/indexed_slices.py:444: UserWarning: Converting sparse IndexedSlices(IndexedSlices(indices=Tensor(\"gradient_tape/sequential/dense/embedding_lookup_sparse/Reshape_1:0\", shape=(None,), dtype=int32), values=Tensor(\"gradient_tape/sequential/dense/embedding_lookup_sparse/Reshape:0\", shape=(None, 1), dtype=float32), dense_shape=Tensor(\"gradient_tape/sequential/dense/embedding_lookup_sparse/Cast:0\", shape=(2,), dtype=int32))) to a dense Tensor of unknown shape. This may consume a large amount of memory.\n",
      "  warnings.warn(\n"
     ]
    }
   ],
   "source": [
    "# let's go, train it\n",
    "simple_model_history = simple_model.fit(\n",
    "    yelp_cv_train, yelp_train_labels,\n",
    "    epochs=100,\n",
    "    verbose=False,\n",
    "    validation_data=(yelp_cv_test, yelp_test_labels),\n",
    "    batch_size=10\n",
    ")"
   ]
  },
  {
   "cell_type": "code",
   "execution_count": 59,
   "id": "3ccdd2c2",
   "metadata": {},
   "outputs": [
    {
     "name": "stdout",
     "output_type": "stream",
     "text": [
      "Training accuracy: 0.9933\n",
      "Testing accuracy: 0.8080\n"
     ]
    }
   ],
   "source": [
    "loss, accuracy = simple_model.evaluate(yelp_cv_train, yelp_train_labels, verbose=False)\n",
    "print(\"Training accuracy: {:.4f}\".format(accuracy))\n",
    "loss, accuracy = simple_model.evaluate(yelp_cv_test, yelp_test_labels, verbose=False)\n",
    "print(\"Testing accuracy: {:.4f}\".format(accuracy))"
   ]
  },
  {
   "cell_type": "code",
   "execution_count": 60,
   "id": "8c2f5351",
   "metadata": {},
   "outputs": [],
   "source": [
    "def plot_history(hist):\n",
    "  metrics = ['accuracy', 'loss']\n",
    "  histories = [(hist.history[m], hist.history[\"val_\" + m]) for m in metrics]\n",
    "  xlist = range(1, len(histories[0][0]) + 1)\n",
    "  plt.figure(figsize=(12,5))\n",
    "  for i, m in enumerate(metrics):\n",
    "    plt.subplot(1, 2, i+1)\n",
    "    plt.plot(xlist, histories[i][0], 'b', label=\"Training \"+m)\n",
    "    plt.plot(xlist, histories[i][1], 'r', label=\"Validation \"+m)\n",
    "    plt.title(\"Training and validation \"+m)\n",
    "    plt.legend()"
   ]
  },
  {
   "cell_type": "code",
   "execution_count": 61,
   "id": "6c33ec42",
   "metadata": {},
   "outputs": [
    {
     "data": {
      "image/png": "[encoded data removed]",
      "text/plain": [
       "<Figure size 864x360 with 2 Axes>"
      ]
     },
     "metadata": {
      "needs_background": "light"
     },
     "output_type": "display_data"
    }
   ],
   "source": [
    "plot_history(simple_model_history)"
   ]
  },
  {
   "cell_type": "code",
   "execution_count": 62,
   "id": "deffdaa2",
   "metadata": {},
   "outputs": [],
   "source": [
    "weights = simple_model.get_weights()"
   ]
  },
  {
   "cell_type": "code",
   "execution_count": 63,
   "id": "df9419a3",
   "metadata": {},
   "outputs": [
    {
     "data": {
      "text/plain": [
       "[array([[-0.6627073 ],\n",
       "        [-0.561234  ],\n",
       "        [ 0.23199855],\n",
       "        ...,\n",
       "        [-0.43406305],\n",
       "        [ 0.75814223],\n",
       "        [-1.0310055 ]], dtype=float32),\n",
       " array([0.00821964], dtype=float32)]"
      ]
     },
     "execution_count": 63,
     "metadata": {},
     "output_type": "execute_result"
    }
   ],
   "source": [
    "weights"
   ]
  },
  {
   "cell_type": "code",
   "execution_count": 64,
   "id": "b741a44d",
   "metadata": {},
   "outputs": [
    {
     "name": "stdout",
     "output_type": "stream",
     "text": [
      "[0.75814223]: yummy\n",
      "[-1.0310055]: zero\n"
     ]
    }
   ],
   "source": [
    "print(\"{}: {}\".format(weights[0][1712], yelp_reverse[1712]))\n",
    "print(\"{}: {}\".format(weights[0][1713], yelp_reverse[1713]))\n",
    "# yep, ok, that tracks"
   ]
  },
  {
   "cell_type": "code",
   "execution_count": 65,
   "id": "869f007d",
   "metadata": {},
   "outputs": [
    {
     "data": {
      "image/png": "[encoded data removed]",
      "text/plain": [
       "<Figure size 864x864 with 1 Axes>"
      ]
     },
     "metadata": {
      "needs_background": "light"
     },
     "output_type": "display_data"
    }
   ],
   "source": [
    "# picture of a more complex network with a lyear of hidden nodes\n",
    "fig = plt.figure(figsize=(12,12))\n",
    "ax = fig.gca()\n",
    "ax.axis('off')\n",
    "draw_neural_net(ax, .1, .9, .1, .9, [7, 5, 1])\n"
   ]
  },
  {
   "cell_type": "code",
   "execution_count": 66,
   "id": "6c243916",
   "metadata": {},
   "outputs": [
    {
     "data": {
      "image/png": "[encoded data removed]",
      "text/plain": [
       "<Figure size 432x288 with 1 Axes>"
      ]
     },
     "metadata": {
      "needs_background": "light"
     },
     "output_type": "display_data"
    }
   ],
   "source": [
    "z = np.arange(-2, 2, .1)\n",
    "zero = np.zeros(len(z))\n",
    "y = np.max([zero, z], axis=0)\n",
    "fig = plt.figure()\n",
    "ax = fig.add_subplot(111)\n",
    "ax.plot(z, y)\n",
    "ax.set_ylim([-0.25, 1.5])\n",
    "ax.set_xlim([-1.5, 1.5])\n",
    "ax.grid(True)\n",
    "ax.set_xlabel('z')\n",
    "ax.set_title('Rectified linear unit')\n",
    "plt.show()"
   ]
  },
  {
   "cell_type": "code",
   "execution_count": 67,
   "id": "4c3eb238",
   "metadata": {},
   "outputs": [
    {
     "data": {
      "image/png": "[encoded data removed]",
      "text/plain": [
       "<Figure size 864x864 with 1 Axes>"
      ]
     },
     "metadata": {
      "needs_background": "light"
     },
     "output_type": "display_data"
    }
   ],
   "source": [
    "# picture of a more complex network with a lyear of hidden nodes\n",
    "fig = plt.figure(figsize=(12,12))\n",
    "ax = fig.gca()\n",
    "ax.axis('off')\n",
    "draw_neural_net(ax, .1, .9, .1, .9, [1714, 10, 1])"
   ]
  },
  {
   "cell_type": "code",
   "execution_count": 68,
   "id": "3faa6251",
   "metadata": {},
   "outputs": [],
   "source": [
    "# define a new sequentially-organized model\n",
    "modelb = Sequential()\n",
    "# connect the input layer densely to an array of 10 hidden nodes\n",
    "in_layer_size = yelp_cv_train.shape[1]\n",
    "modelb.add(layers.Dense(10, input_dim=in_layer_size, activation='relu'))\n",
    "# connect the hidden nodes densely to an output node that decides 1/0\n",
    "modelb.add(layers.Dense(1, activation='sigmoid'))\n",
    "# use binary_crossentropy for loss, adam for optimizer, accuracy for metric\n",
    "modelb.compile(loss='binary_crossentropy', optimizer='adam', metrics=['accuracy'])"
   ]
  },
  {
   "cell_type": "code",
   "execution_count": 69,
   "id": "31b79a77",
   "metadata": {},
   "outputs": [
    {
     "name": "stdout",
     "output_type": "stream",
     "text": [
      "Model: \"sequential_1\"\n",
      "_________________________________________________________________\n",
      " Layer (type)                Output Shape              Param #   \n",
      "=================================================================\n",
      " dense_1 (Dense)             (None, 10)                17150     \n",
      "                                                                 \n",
      " dense_2 (Dense)             (None, 1)                 11        \n",
      "                                                                 \n",
      "=================================================================\n",
      "Total params: 17,161\n",
      "Trainable params: 17,161\n",
      "Non-trainable params: 0\n",
      "_________________________________________________________________\n"
     ]
    }
   ],
   "source": [
    "modelb.summary()"
   ]
  },
  {
   "cell_type": "code",
   "execution_count": 70,
   "id": "d420ccb4",
   "metadata": {},
   "outputs": [
    {
     "data": {
      "image/png": "[encoded data removed]",
      "text/plain": [
       "<IPython.core.display.Image object>"
      ]
     },
     "execution_count": 70,
     "metadata": {},
     "output_type": "execute_result"
    }
   ],
   "source": [
    "# Keras' built in network visualizer.\n",
    "keras.utils.plot_model(modelb, show_shapes=True)\n",
    "# boxes in the diagram are basically the spaces between layers"
   ]
  },
  {
   "cell_type": "code",
   "execution_count": 71,
   "id": "d69d1c82",
   "metadata": {},
   "outputs": [
    {
     "name": "stderr",
     "output_type": "stream",
     "text": [
      "/usr2/faculty/hagstrom/.local/lib/python3.8/site-packages/tensorflow/python/framework/indexed_slices.py:444: UserWarning: Converting sparse IndexedSlices(IndexedSlices(indices=Tensor(\"gradient_tape/sequential_1/dense_1/embedding_lookup_sparse/Reshape_1:0\", shape=(None,), dtype=int32), values=Tensor(\"gradient_tape/sequential_1/dense_1/embedding_lookup_sparse/Reshape:0\", shape=(None, 10), dtype=float32), dense_shape=Tensor(\"gradient_tape/sequential_1/dense_1/embedding_lookup_sparse/Cast:0\", shape=(2,), dtype=int32))) to a dense Tensor of unknown shape. This may consume a large amount of memory.\n",
      "  warnings.warn(\n"
     ]
    }
   ],
   "source": [
    "# train the model that has the hidden nodes\n",
    "modelb_history = modelb.fit(\n",
    "    yelp_cv_train, yelp_train_labels,\n",
    "    epochs=100,\n",
    "    verbose=False,\n",
    "    validation_data=(yelp_cv_test, yelp_test_labels),\n",
    "    batch_size=10\n",
    ")"
   ]
  },
  {
   "cell_type": "code",
   "execution_count": 72,
   "id": "8d3df504",
   "metadata": {},
   "outputs": [
    {
     "name": "stdout",
     "output_type": "stream",
     "text": [
      "Training accuracy: 1.0000\n",
      "Testing accuracy: 0.7880\n"
     ]
    }
   ],
   "source": [
    "loss, accuracy = modelb.evaluate(yelp_cv_train, yelp_train_labels, verbose=False)\n",
    "print(\"Training accuracy: {:.4f}\".format(accuracy))\n",
    "loss, accuracy = modelb.evaluate(yelp_cv_test, yelp_test_labels, verbose=False)\n",
    "print(\"Testing accuracy: {:.4f}\".format(accuracy))"
   ]
  },
  {
   "cell_type": "code",
   "execution_count": 73,
   "id": "25229ba3",
   "metadata": {},
   "outputs": [
    {
     "data": {
      "image/png": "[encoded data removed]",
      "text/plain": [
       "<Figure size 864x360 with 2 Axes>"
      ]
     },
     "metadata": {
      "needs_background": "light"
     },
     "output_type": "display_data"
    }
   ],
   "source": [
    "plot_history(modelb_history)"
   ]
  },
  {
   "cell_type": "code",
   "execution_count": 74,
   "id": "b913e3de",
   "metadata": {},
   "outputs": [],
   "source": [
    "# overfit"
   ]
  },
  {
   "cell_type": "code",
   "execution_count": 75,
   "id": "4585e33b",
   "metadata": {},
   "outputs": [
    {
     "name": "stderr",
     "output_type": "stream",
     "text": [
      "/usr2/faculty/hagstrom/.local/lib/python3.8/site-packages/tensorflow/python/framework/indexed_slices.py:444: UserWarning: Converting sparse IndexedSlices(IndexedSlices(indices=Tensor(\"gradient_tape/sequential_2/dense_3/embedding_lookup_sparse/Reshape_1:0\", shape=(None,), dtype=int32), values=Tensor(\"gradient_tape/sequential_2/dense_3/embedding_lookup_sparse/Reshape:0\", shape=(None, 10), dtype=float32), dense_shape=Tensor(\"gradient_tape/sequential_2/dense_3/embedding_lookup_sparse/Cast:0\", shape=(2,), dtype=int32))) to a dense Tensor of unknown shape. This may consume a large amount of memory.\n",
      "  warnings.warn(\n"
     ]
    },
    {
     "name": "stdout",
     "output_type": "stream",
     "text": [
      "Training accuracy: 0.9987\n",
      "Testing accuracy: 0.8200\n"
     ]
    },
    {
     "data": {
      "image/png": "[encoded data removed]",
      "text/plain": [
       "<Figure size 864x360 with 2 Axes>"
      ]
     },
     "metadata": {
      "needs_background": "light"
     },
     "output_type": "display_data"
    }
   ],
   "source": [
    "# define a new sequentially-organized model\n",
    "modelc = Sequential()\n",
    "# connect the input layer densely to an array of 10 hidden nodes\n",
    "in_layer_size = yelp_cv_train.shape[1]\n",
    "modelc.add(layers.Dense(10, input_dim=in_layer_size, activation='relu'))\n",
    "# connect the hidden nodes densely to an output node that decides 1/0\n",
    "modelc.add(layers.Dense(1, activation='sigmoid'))\n",
    "# use binary_crossentropy for loss, adam for optimizer, accuracy for metric\n",
    "modelc.compile(loss='binary_crossentropy', optimizer='adam', metrics=['accuracy'])\n",
    "# train the model that has the hidden nodes\n",
    "modelc_history = modelc.fit(\n",
    "    yelp_cv_train, yelp_train_labels,\n",
    "    epochs=20,  #### THIS IS THE LINE THAT WAS CHANGED\n",
    "    verbose=False,\n",
    "    validation_data=(yelp_cv_test, yelp_test_labels),\n",
    "    batch_size=10\n",
    ")\n",
    "loss, accuracy = modelc.evaluate(yelp_cv_train, yelp_train_labels, verbose=False)\n",
    "print(\"Training accuracy: {:.4f}\".format(accuracy))\n",
    "loss, accuracy = modelc.evaluate(yelp_cv_test, yelp_test_labels, verbose=False)\n",
    "print(\"Testing accuracy: {:.4f}\".format(accuracy))\n",
    "plot_history(modelc_history)"
   ]
  },
  {
   "cell_type": "code",
   "execution_count": null,
   "id": "2e576a8b",
   "metadata": {},
   "outputs": [],
   "source": []
  }
 ],
 "metadata": {
  "kernelspec": {
   "display_name": "Python 3",
   "language": "python",
   "name": "python3"
  },
  "language_info": {
   "codemirror_mode": {
    "name": "ipython",
    "version": 3
   },
   "file_extension": ".py",
   "mimetype": "text/x-python",
   "name": "python",
   "nbconvert_exporter": "python",
   "pygments_lexer": "ipython3",
   "version": "3.8.10"
  }
 },
 "nbformat": 4,
 "nbformat_minor": 5
}
