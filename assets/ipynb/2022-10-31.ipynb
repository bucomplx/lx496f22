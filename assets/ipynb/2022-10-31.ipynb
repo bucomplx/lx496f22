{
 "cells": [
  {
   "cell_type": "code",
   "execution_count": 1,
   "id": "8497ff7f",
   "metadata": {},
   "outputs": [
    {
     "name": "stderr",
     "output_type": "stream",
     "text": [
      "/share/pkg.7/python3/3.8.10/install/lib/python3.8/site-packages/scipy-1.6.2-py3.8-linux-x86_64.egg/scipy/__init__.py:138: UserWarning: A NumPy version >=1.16.5 and <1.23.0 is required for this version of SciPy (detected version 1.23.4)\n",
      "  warnings.warn(f\"A NumPy version >={np_minversion} and <{np_maxversion} is required for this version of \"\n"
     ]
    }
   ],
   "source": [
    "import nltk"
   ]
  },
  {
   "cell_type": "code",
   "execution_count": 2,
   "id": "5cb95a88",
   "metadata": {},
   "outputs": [],
   "source": [
    "from nltk.corpus.reader import CHILDESCorpusReader"
   ]
  },
  {
   "cell_type": "code",
   "execution_count": 4,
   "id": "64585726",
   "metadata": {},
   "outputs": [
    {
     "name": "stdout",
     "output_type": "stream",
     "text": [
      "--2022-10-31 15:11:34--  https://childes.talkbank.org/data-xml/Eng-NA/Suppes.zip\n",
      "Resolving childes.talkbank.org (childes.talkbank.org)... 128.2.24.68\n",
      "Connecting to childes.talkbank.org (childes.talkbank.org)|128.2.24.68|:443... connected.\n",
      "HTTP request sent, awaiting response... 200 OK\n",
      "Length: 3184554 (3.0M) [application/zip]\n",
      "Saving to: 'Suppes.zip'\n",
      "\n",
      "100%[======================================>] 3,184,554   --.-K/s   in 0.1s    \n",
      "\n",
      "2022-10-31 15:11:34 (20.5 MB/s) - 'Suppes.zip' saved [3184554/3184554]\n",
      "\n"
     ]
    }
   ],
   "source": [
    "!wget \"https://childes.talkbank.org/data-xml/Eng-NA/Suppes.zip\""
   ]
  },
  {
   "cell_type": "code",
   "execution_count": 5,
   "id": "754b427a",
   "metadata": {},
   "outputs": [
    {
     "name": "stdout",
     "output_type": "stream",
     "text": [
      "2022-10-31.ipynb  Suppes.zip\r\n"
     ]
    }
   ],
   "source": [
    "!ls"
   ]
  },
  {
   "cell_type": "code",
   "execution_count": 6,
   "id": "d9146415",
   "metadata": {
    "collapsed": true
   },
   "outputs": [
    {
     "name": "stdout",
     "output_type": "stream",
     "text": [
      "Archive:  Suppes.zip\n",
      "  inflating: Suppes/020412.xml       \n",
      "  inflating: Suppes/020314.xml       \n",
      "  inflating: Suppes/030308.xml       \n",
      "  inflating: Suppes/020003.xml       \n",
      "  inflating: Suppes/020426.xml       \n",
      "  inflating: Suppes/020122.xml       \n",
      "  inflating: Suppes/020010.xml       \n",
      "  inflating: Suppes/030301.xml       \n",
      "  inflating: Suppes/030106.xml       \n",
      "  inflating: Suppes/020024.xml       \n",
      "  inflating: Suppes/030321.xml       \n",
      "  inflating: Suppes/011124.xml       \n",
      "  inflating: Suppes/021028.xml       \n",
      "  inflating: Suppes/030104.xml       \n",
      "  inflating: Suppes/021116.xml       \n",
      "  inflating: Suppes/020129.xml       \n",
      "  inflating: Suppes/030024.xml       \n",
      "  inflating: Suppes/030010.xml       \n",
      "  inflating: Suppes/020526.xml       \n",
      "  inflating: Suppes/020926.xml       \n",
      "  inflating: Suppes/030016.xml       \n",
      "  inflating: Suppes/030107.xml       \n",
      "  inflating: Suppes/011129.xml       \n",
      "  inflating: Suppes/030204.xml       \n",
      "  inflating: Suppes/020115.xml       \n",
      "  inflating: Suppes/020528.xml       \n",
      "  inflating: Suppes/030216.xml       \n",
      "  inflating: Suppes/030003.xml       \n",
      "  inflating: Suppes/020305.xml       \n",
      "  inflating: Suppes/020328.xml       \n",
      "  inflating: Suppes/030105.xml       \n",
      "  inflating: Suppes/020527.xml       \n",
      "  inflating: Suppes/020228.xml       \n",
      "  inflating: Suppes/021006.xml       \n",
      "  inflating: Suppes/020418.xml       \n",
      "  inflating: Suppes/020017.xml       \n",
      "  inflating: Suppes/021021.xml       \n",
      "  inflating: Suppes/011116.xml       \n",
      "  inflating: Suppes/030212.xml       \n",
      "  inflating: Suppes/021106.xml       \n",
      "  inflating: Suppes/030224.xml       \n",
      "  inflating: Suppes/020525.xml       \n",
      "  inflating: Suppes/020921.xml       \n",
      "  inflating: Suppes/020406.xml       \n",
      "  inflating: Suppes/021112.xml       \n",
      "  inflating: Suppes/020318.xml       \n",
      "  inflating: Suppes/020206.xml       \n",
      "  inflating: Suppes/020524.xml       \n",
      "  inflating: Suppes/021013.xml       \n",
      "  inflating: Suppes/020212.xml       \n",
      "  inflating: Suppes/020106.xml       \n",
      "  inflating: Suppes/020913.xml       \n"
     ]
    }
   ],
   "source": [
    "!unzip Suppes.zip"
   ]
  },
  {
   "cell_type": "code",
   "execution_count": 7,
   "id": "73c0f70b",
   "metadata": {},
   "outputs": [],
   "source": [
    "nina = CHILDESCorpusReader('Suppes', '.*\\.xml')"
   ]
  },
  {
   "cell_type": "code",
   "execution_count": 8,
   "id": "b7af09a1",
   "metadata": {},
   "outputs": [],
   "source": [
    "people = nina.participants()"
   ]
  },
  {
   "cell_type": "code",
   "execution_count": 9,
   "id": "9f1767a6",
   "metadata": {
    "collapsed": true
   },
   "outputs": [
    {
     "data": {
      "text/plain": [
       "[defaultdict(<function CHILDESCorpusReader._get_participants.<locals>.dictOfDicts at 0x2b9802e793a0>, {'CHI': defaultdict(<function CHILDESCorpusReader._get_participants.<locals>.dictOfDicts at 0x2b9802e793a0>, {'id': 'CHI', 'name': 'Nina', 'role': 'Target_Child', 'language': 'eng', 'age': 'P1Y11M16D', 'sex': 'female', 'group': 'TD'}), 'MOT': defaultdict(<function CHILDESCorpusReader._get_participants.<locals>.dictOfDicts at 0x2b9802e793a0>, {'id': 'MOT', 'role': 'Mother', 'language': 'eng', 'sex': 'female'})}), defaultdict(<function CHILDESCorpusReader._get_participants.<locals>.dictOfDicts at 0x2b9802e71f70>, {'CHI': defaultdict(<function CHILDESCorpusReader._get_participants.<locals>.dictOfDicts at 0x2b9802e71f70>, {'id': 'CHI', 'name': 'Nina', 'role': 'Target_Child', 'language': 'eng', 'age': 'P1Y11M24D', 'sex': 'female', 'group': 'TD'}), 'MOT': defaultdict(<function CHILDESCorpusReader._get_participants.<locals>.dictOfDicts at 0x2b9802e71f70>, {'id': 'MOT', 'role': 'Mother', 'language': 'eng', 'sex': 'female'})}), ...]"
      ]
     },
     "execution_count": 9,
     "metadata": {},
     "output_type": "execute_result"
    }
   ],
   "source": [
    "people"
   ]
  },
  {
   "cell_type": "code",
   "execution_count": 10,
   "id": "de4622ee",
   "metadata": {
    "collapsed": true
   },
   "outputs": [
    {
     "data": {
      "text/plain": [
       "['011116.xml',\n",
       " '011124.xml',\n",
       " '011129.xml',\n",
       " '020003.xml',\n",
       " '020010.xml',\n",
       " '020017.xml',\n",
       " '020024.xml',\n",
       " '020106.xml',\n",
       " '020115.xml',\n",
       " '020122.xml',\n",
       " '020129.xml',\n",
       " '020206.xml',\n",
       " '020212.xml',\n",
       " '020228.xml',\n",
       " '020305.xml',\n",
       " '020314.xml',\n",
       " '020318.xml',\n",
       " '020328.xml',\n",
       " '020406.xml',\n",
       " '020412.xml',\n",
       " '020418.xml',\n",
       " '020426.xml',\n",
       " '020524.xml',\n",
       " '020525.xml',\n",
       " '020526.xml',\n",
       " '020527.xml',\n",
       " '020528.xml',\n",
       " '020913.xml',\n",
       " '020921.xml',\n",
       " '020926.xml',\n",
       " '021006.xml',\n",
       " '021013.xml',\n",
       " '021021.xml',\n",
       " '021028.xml',\n",
       " '021106.xml',\n",
       " '021112.xml',\n",
       " '021116.xml',\n",
       " '030003.xml',\n",
       " '030010.xml',\n",
       " '030016.xml',\n",
       " '030024.xml',\n",
       " '030104.xml',\n",
       " '030105.xml',\n",
       " '030106.xml',\n",
       " '030107.xml',\n",
       " '030204.xml',\n",
       " '030212.xml',\n",
       " '030216.xml',\n",
       " '030224.xml',\n",
       " '030301.xml',\n",
       " '030308.xml',\n",
       " '030321.xml']"
      ]
     },
     "execution_count": 10,
     "metadata": {},
     "output_type": "execute_result"
    }
   ],
   "source": [
    "nina.fileids()"
   ]
  },
  {
   "cell_type": "code",
   "execution_count": 11,
   "id": "54d04ca0",
   "metadata": {},
   "outputs": [
    {
     "data": {
      "text/plain": [
       "[defaultdict(<function CHILDESCorpusReader._get_participants.<locals>.dictOfDicts at 0x2b97c7e0b4c0>, {'CHI': defaultdict(<function CHILDESCorpusReader._get_participants.<locals>.dictOfDicts at 0x2b97c7e0b4c0>, {'id': 'CHI', 'name': 'Nina', 'role': 'Target_Child', 'language': 'eng', 'age': 'P1Y11M16D', 'sex': 'female', 'group': 'TD'}), 'MOT': defaultdict(<function CHILDESCorpusReader._get_participants.<locals>.dictOfDicts at 0x2b97c7e0b4c0>, {'id': 'MOT', 'role': 'Mother', 'language': 'eng', 'sex': 'female'})})]"
      ]
     },
     "execution_count": 11,
     "metadata": {},
     "output_type": "execute_result"
    }
   ],
   "source": [
    "nina.participants('011116.xml')"
   ]
  },
  {
   "cell_type": "code",
   "execution_count": 12,
   "id": "5323e8ee",
   "metadata": {},
   "outputs": [
    {
     "data": {
      "text/plain": [
       "defaultdict(<function nltk.corpus.reader.childes.CHILDESCorpusReader._get_participants.<locals>.dictOfDicts()>,\n",
       "            {'CHI': defaultdict(<function nltk.corpus.reader.childes.CHILDESCorpusReader._get_participants.<locals>.dictOfDicts()>,\n",
       "                         {'id': 'CHI',\n",
       "                          'name': 'Nina',\n",
       "                          'role': 'Target_Child',\n",
       "                          'language': 'eng',\n",
       "                          'age': 'P1Y11M16D',\n",
       "                          'sex': 'female',\n",
       "                          'group': 'TD'}),\n",
       "             'MOT': defaultdict(<function nltk.corpus.reader.childes.CHILDESCorpusReader._get_participants.<locals>.dictOfDicts()>,\n",
       "                         {'id': 'MOT',\n",
       "                          'role': 'Mother',\n",
       "                          'language': 'eng',\n",
       "                          'sex': 'female'})})"
      ]
     },
     "execution_count": 12,
     "metadata": {},
     "output_type": "execute_result"
    }
   ],
   "source": [
    "people[0]"
   ]
  },
  {
   "cell_type": "code",
   "execution_count": 13,
   "id": "e80d24e3",
   "metadata": {},
   "outputs": [
    {
     "data": {
      "text/plain": [
       "defaultdict(<function nltk.corpus.reader.childes.CHILDESCorpusReader._get_participants.<locals>.dictOfDicts()>,\n",
       "            {'id': 'CHI',\n",
       "             'name': 'Nina',\n",
       "             'role': 'Target_Child',\n",
       "             'language': 'eng',\n",
       "             'age': 'P1Y11M16D',\n",
       "             'sex': 'female',\n",
       "             'group': 'TD'})"
      ]
     },
     "execution_count": 13,
     "metadata": {},
     "output_type": "execute_result"
    }
   ],
   "source": [
    "people[0]['CHI']"
   ]
  },
  {
   "cell_type": "code",
   "execution_count": 14,
   "id": "e73fa5b6",
   "metadata": {},
   "outputs": [
    {
     "data": {
      "text/plain": [
       "'Target_Child'"
      ]
     },
     "execution_count": 14,
     "metadata": {},
     "output_type": "execute_result"
    }
   ],
   "source": [
    "people[0]['CHI']['role']"
   ]
  },
  {
   "cell_type": "code",
   "execution_count": 15,
   "id": "3f7406be",
   "metadata": {},
   "outputs": [
    {
     "data": {
      "text/plain": [
       "[2.2554621848739496]"
      ]
     },
     "execution_count": 15,
     "metadata": {},
     "output_type": "execute_result"
    }
   ],
   "source": [
    "nina.MLU('011116.xml')"
   ]
  },
  {
   "cell_type": "code",
   "execution_count": 16,
   "id": "23fd292c",
   "metadata": {},
   "outputs": [
    {
     "data": {
      "text/plain": [
       "[('this', 'pro:dem'), ('is', 'cop'), ('a', 'det:art'), ...]"
      ]
     },
     "execution_count": 16,
     "metadata": {},
     "output_type": "execute_result"
    }
   ],
   "source": [
    "nina.tagged_words(nina.fileids())"
   ]
  },
  {
   "cell_type": "code",
   "execution_count": 17,
   "id": "71ff3604",
   "metadata": {},
   "outputs": [],
   "source": [
    "all_poses = {pos for (w,pos) in nina.tagged_words(nina.fileids(), speaker='CHI')}"
   ]
  },
  {
   "cell_type": "code",
   "execution_count": 18,
   "id": "0851f181",
   "metadata": {},
   "outputs": [
    {
     "data": {
      "text/plain": [
       "80"
      ]
     },
     "execution_count": 18,
     "metadata": {},
     "output_type": "execute_result"
    }
   ],
   "source": [
    "len(all_poses)"
   ]
  },
  {
   "cell_type": "code",
   "execution_count": 19,
   "id": "dcb02c4b",
   "metadata": {},
   "outputs": [
    {
     "data": {
      "text/plain": [
       "{'',\n",
       " 'L2',\n",
       " 'adj',\n",
       " 'adv',\n",
       " 'adv:tem',\n",
       " 'aux',\n",
       " 'aux~neg',\n",
       " 'chi',\n",
       " 'co',\n",
       " 'comp',\n",
       " 'comp~aux',\n",
       " 'conj',\n",
       " 'coord',\n",
       " 'cop',\n",
       " 'cop~neg',\n",
       " 'co~aux',\n",
       " 'det:art',\n",
       " 'det:dem',\n",
       " 'det:num',\n",
       " 'det:poss',\n",
       " 'fam',\n",
       " 'inf',\n",
       " 'mod',\n",
       " 'mod~inf',\n",
       " 'mod~neg',\n",
       " 'mod~prep',\n",
       " 'n',\n",
       " 'n:adj',\n",
       " 'n:gerund',\n",
       " 'n:let',\n",
       " 'n:prop',\n",
       " 'n:prop~aux',\n",
       " 'n:prop~cop',\n",
       " 'n:pt',\n",
       " 'neg',\n",
       " 'neo',\n",
       " 'n~aux',\n",
       " 'n~cop',\n",
       " 'on',\n",
       " 'part',\n",
       " 'part~inf',\n",
       " 'part~prep',\n",
       " 'post',\n",
       " 'prep',\n",
       " 'pro:dem',\n",
       " 'pro:dem~aux',\n",
       " 'pro:dem~cop',\n",
       " 'pro:exist',\n",
       " 'pro:exist~aux',\n",
       " 'pro:exist~cop',\n",
       " 'pro:indef',\n",
       " 'pro:indef~aux',\n",
       " 'pro:indef~cop',\n",
       " 'pro:int',\n",
       " 'pro:int~aux',\n",
       " 'pro:int~cop',\n",
       " 'pro:obj',\n",
       " 'pro:obj~aux',\n",
       " 'pro:obj~cop',\n",
       " 'pro:per',\n",
       " 'pro:per~aux',\n",
       " 'pro:per~cop',\n",
       " 'pro:per~mod',\n",
       " 'pro:poss',\n",
       " 'pro:refl',\n",
       " 'pro:rel',\n",
       " 'pro:rel~aux',\n",
       " 'pro:rel~cop',\n",
       " 'pro:rel~mod',\n",
       " 'pro:sub',\n",
       " 'pro:sub~aux',\n",
       " 'pro:sub~cop',\n",
       " 'pro:sub~mod',\n",
       " 'qn',\n",
       " 'sing',\n",
       " 'v',\n",
       " 'v:obj~pro:obj',\n",
       " 'v~inf',\n",
       " 'v~prep',\n",
       " 'wplay'}"
      ]
     },
     "execution_count": 19,
     "metadata": {},
     "output_type": "execute_result"
    }
   ],
   "source": [
    "all_poses"
   ]
  },
  {
   "cell_type": "code",
   "execution_count": 21,
   "id": "6863dbb8",
   "metadata": {},
   "outputs": [],
   "source": [
    "def nvratio(f, sp=['CHI']):\n",
    "    ws = nina.tagged_words(f, speaker=sp)\n",
    "    ns = [w for (w, pos) in ws if pos and pos == 'n' or pos[:2] == 'n:']\n",
    "    vs = [w for (w, pos) in ws if pos and pos == 'v' or pos[:4] == 'part']\n",
    "    nns = len(ns)\n",
    "    nvs = len(vs)\n",
    "    return nns/nvs"
   ]
  },
  {
   "cell_type": "code",
   "execution_count": 23,
   "id": "7051ba81",
   "metadata": {},
   "outputs": [
    {
     "data": {
      "text/plain": [
       "3.896103896103896"
      ]
     },
     "execution_count": 23,
     "metadata": {},
     "output_type": "execute_result"
    }
   ],
   "source": [
    "nvratio(nina.fileids()[0])"
   ]
  },
  {
   "cell_type": "code",
   "execution_count": null,
   "id": "1212574e",
   "metadata": {},
   "outputs": [],
   "source": []
  }
 ],
 "metadata": {
  "kernelspec": {
   "display_name": "Python 3",
   "language": "python",
   "name": "python3"
  },
  "language_info": {
   "codemirror_mode": {
    "name": "ipython",
    "version": 3
   },
   "file_extension": ".py",
   "mimetype": "text/x-python",
   "name": "python",
   "nbconvert_exporter": "python",
   "pygments_lexer": "ipython3",
   "version": "3.8.10"
  }
 },
 "nbformat": 4,
 "nbformat_minor": 5
}
