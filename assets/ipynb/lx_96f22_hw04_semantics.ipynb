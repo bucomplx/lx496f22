{
  "nbformat": 4,
  "nbformat_minor": 0,
  "metadata": {
    "kernelspec": {
      "display_name": "Python 3",
      "language": "python",
      "name": "python3"
    },
    "language_info": {
      "codemirror_mode": {
        "name": "ipython",
        "version": 3
      },
      "file_extension": ".py",
      "mimetype": "text/x-python",
      "name": "python",
      "nbconvert_exporter": "python",
      "pygments_lexer": "ipython3",
      "version": "3.7.0"
    },
    "colab": {
      "provenance": [],
      "collapsed_sections": [],
      "toc_visible": true
    }
  },
  "cells": [
    {
      "cell_type": "markdown",
      "metadata": {
        "id": "2rR6rwffygzm"
      },
      "source": [
        "# LX 496/796  Formalizing meaning\n",
        "\n",
        "In this homework, you will become familiar with creating context free grammars in NLTK and ways to formalize meaning.  Also, parsing, drawing, and traversing syntactic trees.  And we will get started with a little bit of the work on SHRDLU.\n",
        "\n",
        "## Longer term goal: A tiny version of SHRDLU\n",
        "\n",
        "A quick word about SHRDLU.  [SHRDLU](https://en.wikipedia.org/wiki/SHRDLU) is Terry Winograd's program from 1971 that could converse about things in its very limited universe of a block world.  You can find a video of it doing its thing [on YouTube here](https://www.youtube.com/watch?v=bo4RvYJYOzI).  You can see it doing a lot of pretty interesting things.  Learning names for things, remembering what it was talking about, moving blocks around, making plans to accomplish goals.  Ours will not be that sophisticated.\n",
        "\n",
        "In service of this goal, we will need to accept input, parse the trees, and assign a semantics to the parsed sentences so that we can query or act on the blocks world. So there are a couple of pre-requisites.  In this first assignment (of two) we will work on doing the semantic parsing and world representation, and some of the display planning.  The second assignment will get deeper into making it actual work."
      ]
    },
    {
      "cell_type": "markdown",
      "metadata": {
        "id": "ObSKnWLyygzo"
      },
      "source": [
        "# Formalizing meaning #\n",
        "\n",
        "This largely follows the discussion from chapter 10 in the NLTK book, and stuff we talked about in class, but maybe more elaborated here.  And more doing and less watching.  If it all went smoothly for you in class, it might go pretty smoothly here too.\n",
        "\n",
        "What we're doing here is setting up a representation of meaning, based on a representation of the world.  We will consider a sentence/statement to be something that can be evaluated as either true or false based on the state of the world.  In order to do these evaluations, we need to have a way to represent the state of the world.\n",
        "\n",
        "In the world we will work with here first, there are four people: Andrea, Bobby, Chris, and Dana.  These are our *individuals*.\n",
        "An \"individual\" need not be a person, it's just some kind of entity that we can refer to.\n",
        "So, let's also add a couple of non-human individuals as well.  To keep things somewhat simple, they\n",
        "will be the Moon and the Sun.  We are going to pretend their names are `the_sun` and `the_moon`\n",
        "however (having a space in there makes things not work, so we will use `_` instead of a space).\n",
        "\n",
        "So, step one, let's define a set of our individuals.  (There is no intrinsic order to these\n",
        "individuals, they are just the individuals in our model of the world, so it should be a set and\n",
        "not a list.) This set is traditionally called the **domain of individuals**, hence the name `dom` for our set."
      ]
    },
    {
      "cell_type": "code",
      "metadata": {
        "id": "RGGufRFwygzo"
      },
      "source": [
        "# define our individuals, these are people/objects that can be referred to or have properties\n",
        "dom = {'a', 'b', 'c', 'd', 'm', 's'}"
      ],
      "execution_count": null,
      "outputs": []
    },
    {
      "cell_type": "markdown",
      "metadata": {
        "id": "1o9TrJqMygzp"
      },
      "source": [
        "Now we will build up some information about how English words are mapped to these individuals.\n",
        "First off, we will set up the names.\n",
        "What we do is\n",
        "set up a multi-line string first, using then `\"\"\"` delimiters on each end."
      ]
    },
    {
      "cell_type": "code",
      "metadata": {
        "id": "EnUdPm1Jygzp"
      },
      "source": [
        "# define the mapping from english words => individuals\n",
        "names = \"\"\"\n",
        "andrea => a\n",
        "bobby => b\n",
        "chris => c\n",
        "dana => d\n",
        "the_sun => s\n",
        "the_moon => m\n",
        "\"\"\""
      ],
      "execution_count": null,
      "outputs": []
    },
    {
      "cell_type": "markdown",
      "metadata": {
        "id": "6vMEGKRkygzp"
      },
      "source": [
        "As we did in class, and as it is done in the textbook, we\n",
        "will use NLTK's `fromstring` function to create a `Valuation` from these.\n",
        "\n",
        "> The `Valuation` is the name of the mapping from English to representations in the model of the world."
      ]
    },
    {
      "cell_type": "code",
      "metadata": {
        "id": "8huKAfDHygzq"
      },
      "source": [
        "import nltk\n",
        "# create the Valuation from our names above\n",
        "val = nltk.Valuation.fromstring(names)\n",
        "# make sure that it worked by printing the Valuation back out again\n",
        "print(val)"
      ],
      "execution_count": null,
      "outputs": []
    },
    {
      "cell_type": "markdown",
      "metadata": {
        "id": "vP3qyT3iygzq"
      },
      "source": [
        "Now that we have done this, we can \"evaluate\" the English words and get their referents."
      ]
    },
    {
      "cell_type": "code",
      "metadata": {
        "id": "lIcbk27Nygzr"
      },
      "source": [
        "print(val['bobby'])\n",
        "print(val['the_moon'])"
      ],
      "execution_count": null,
      "outputs": []
    },
    {
      "cell_type": "markdown",
      "metadata": {
        "id": "B_JwE-MVygzr"
      },
      "source": [
        "This tells us which individual in our set of individuals is being referred to by \"bobby\" and by \"the moon\".\n",
        "Doing this counts, at least in a certain sense, as translating from English into \"semantics.\"  We are\n",
        "determining the meaning of the word \"bobby,\" for example.\n",
        "\n",
        "The individuals in this world have properties and relationships, however, as well.  For example, some of the\n",
        "individuals are people.  So, we define \"person\" as being something that holds of the individuals\n",
        "a, b, c, and d.  For the moment, we are going to create a new temporary Valuation to hold this information,\n",
        "and we will merge this in with our primary valuation function `val` shortly."
      ]
    },
    {
      "cell_type": "code",
      "metadata": {
        "id": "X1AGydxbygzr"
      },
      "source": [
        "valp = nltk.Valuation.fromstring(\"person => {a, b, c, d}\")\n",
        "print(valp)"
      ],
      "execution_count": null,
      "outputs": []
    },
    {
      "cell_type": "markdown",
      "metadata": {
        "id": "TlGvK6EFygzr"
      },
      "source": [
        "It's kind of a pain to keep typing this `nltk.Valuation.fromstring` thing, let's give it a shorter\n",
        "name.  I'm going with `vfs` for \"valuation-from-string\".  After doing this, we can just type `vfs` everywhere we would have typed `nltk.Valuation.fromstring` otherwise, it's basically just a nickname/alias."
      ]
    },
    {
      "cell_type": "code",
      "metadata": {
        "id": "lkaOGORYygzr"
      },
      "source": [
        "vfs = nltk.Valuation.fromstring"
      ],
      "execution_count": null,
      "outputs": []
    },
    {
      "cell_type": "markdown",
      "metadata": {
        "id": "4tDWKSU0ygzs"
      },
      "source": [
        "Now, the sun and the moon are not people, what are they?  Let's make a little temporary valuation for them."
      ]
    },
    {
      "cell_type": "code",
      "metadata": {
        "id": "4dSGV13Gygzs"
      },
      "source": [
        "valsb = vfs(\"spaceball => {s, m}\")"
      ],
      "execution_count": null,
      "outputs": []
    },
    {
      "cell_type": "markdown",
      "metadata": {
        "id": "FIPfWmzaygzs"
      },
      "source": [
        "So far, we have three different Valuations (`val`, `valp`, and `valsb`).  Just to be sure, we will print them out."
      ]
    },
    {
      "cell_type": "code",
      "metadata": {
        "id": "Zuqzwc95ygzs"
      },
      "source": [
        "print(val)\n",
        "print(valp)\n",
        "print(valsb)"
      ],
      "execution_count": null,
      "outputs": []
    },
    {
      "cell_type": "markdown",
      "metadata": {
        "id": "dbVSED--ygzs"
      },
      "source": [
        "But ultimately we want a single Valuation that we can use, so we want to merge\n",
        "them together into one.  We'll consider `val` to be our main one, and will merge the other two into `val`.  It is possible to combine two Valuations using the `update` function.  So, let's\n",
        "add `valp` and `valsb` to `val`. First, we'll add the spaceballs one and see what the effect was."
      ]
    },
    {
      "cell_type": "code",
      "metadata": {
        "id": "TzUls0sIygzs"
      },
      "source": [
        "val.update(valsb)\n",
        "print(val)"
      ],
      "execution_count": null,
      "outputs": []
    },
    {
      "cell_type": "markdown",
      "metadata": {
        "id": "x2Yrqgdbygzt"
      },
      "source": [
        "Good, that's what we wanted, now let's add the people."
      ]
    },
    {
      "cell_type": "code",
      "metadata": {
        "id": "RCZskSyfygzt"
      },
      "source": [
        "val.update(valp)\n",
        "print(val)"
      ],
      "execution_count": null,
      "outputs": []
    },
    {
      "cell_type": "markdown",
      "metadata": {
        "id": "Y2xA2jI5ygzt"
      },
      "source": [
        ">The `update` function is actually fairly general.  It is defined for Valuations, but it is\n",
        ">also defined for just regular sets, as well as for dictionaries.  If you call `update` on a\n",
        ">set or a dictionary, it merges the argument of `update` into it (with priority given to the\n",
        ">additions, if there is a conflict).\n",
        "\n",
        ">```python\n",
        ">aset = {1, 2, 3}\n",
        ">aset.update({3, 4, 5})\n",
        ">print(aset) # => {1, 2, 3, 4, 5}\n",
        ">adict = {'a': 1, 'b': 2}\n",
        ">adict.update({'b': 4, 'c': 6})\n",
        ">print(adict) # => {'a': 1, 'b': 4, 'c': 6}\n",
        ">```\n",
        "\n",
        "Now, all of our world-building work to date is represented in `val`.  Let's do a little bit more building.\n",
        "Let us suppose that Andrea and Bobby are from Boston, while Chris and Dana are from Cambridge.  Instead of creating and naming temporary Valuations first and then merging them in, we can skip the naming step and update `val` directly with the output of `vfs`."
      ]
    },
    {
      "cell_type": "code",
      "metadata": {
        "id": "1YErJqTuygzt"
      },
      "source": [
        "val.update(vfs(\"bostonian => {a, b}\"))\n",
        "val.update(vfs(\"cantabrigian => {c, d}\"))"
      ],
      "execution_count": null,
      "outputs": []
    },
    {
      "cell_type": "markdown",
      "metadata": {
        "id": "ezJWWpheygzu"
      },
      "source": [
        "Now, we've defined the mapping between names and individuals, and we've defined some nouns/predicates\n",
        "that hold of sets of individuals.  What remains is to define some relationships between them.\n",
        "Relationships are asymmetrical, so just because Andrea likes Bobby does not mean that Bobby likes Andrea.\n",
        "But let's start with that."
      ]
    },
    {
      "cell_type": "code",
      "metadata": {
        "id": "0Sy2-4Upygzu"
      },
      "source": [
        "val.update(vfs(\"likes => {(a, b)}\"))"
      ],
      "execution_count": null,
      "outputs": []
    },
    {
      "cell_type": "markdown",
      "metadata": {
        "id": "EFkjKxR8ygzu"
      },
      "source": [
        "Ok, now let's (attempt to) make it mutual.  This isn't going to work, but it seems like it might have.  We're trying to add \"b likes a\" (Bobby likes Andrea) to `val`, and we know that `update` can add things to `val`.  But when we try it, we don't get the mutual liking we had hoped to get."
      ]
    },
    {
      "cell_type": "code",
      "metadata": {
        "id": "Kj2U9Pz9ygzu"
      },
      "source": [
        "val.update(vfs(\"likes => {(b, a)}\"))\n",
        "print(val['likes'])"
      ],
      "execution_count": null,
      "outputs": []
    },
    {
      "cell_type": "markdown",
      "metadata": {
        "id": "wxhdZ-Iaygzu"
      },
      "source": [
        "Specifically, the result was that---even though Bobby now likes Andrea---Andrea no longer likes Bobby.\n",
        "\n",
        "What happened of course is that we did not *add* a pair to the liking relation, but rather just replaced it with a different pair.  When we `update` a valuation function, it will replace the entire value for the words we include in our update argument.\n",
        "\n",
        "So to get the mutual liking we wanted, we could simply spell it out, update `val` with definition of \"likes\" that contains both pairs:"
      ]
    },
    {
      "cell_type": "code",
      "metadata": {
        "id": "oSanCyMOygzu"
      },
      "source": [
        "val.update(vfs(\"likes => {(b, a), (a, b)}\"))\n",
        "print(val['likes'])"
      ],
      "execution_count": null,
      "outputs": []
    },
    {
      "cell_type": "markdown",
      "metadata": {
        "id": "s-rsPeAPygzv"
      },
      "source": [
        "And that gets what we want.  But it would be nice to be able to add relations in stages, rather\n",
        "than redefine the relation in full every time.  And we can, we just have to be wiser about what we update.\n",
        "\n",
        "What we were trying to do, really, was update the value for \"likes\" (which in turn is an update to `val` as a whole).  It turns out that things are set up such that if you update an individual *value*, it will behave like updating a regular set.  So we *can* accomplish the thing we were trying to do (just add a single pair without removing all other pairs as well), we just need to update `val['likes']` instead of updating `val`.\n",
        "\n",
        "**BUT NOTE**: there is a difference between the notation in the string that `vfs` parses into a Valuation data structure and the notation that Python uses in the eventual structure.  Above, in the arguments to `vfs`, we were able to refer to \"a likes b\" as `{(a,b)}`.  But when we look at the values of `val['likes']` we see that they are in the form `{('a', 'b')}`.  Specifically, in the string we give to `vfs`, it will just assume the members of the pairs are strings.  But if we are updating the `val` structure without the help of `vfs`, then we need to explicitly mark the individuals as being strings by putting quote marks around them.\n",
        "\n",
        "Given all that, it's pretty easy to do these additive updates now."
      ]
    },
    {
      "cell_type": "code",
      "metadata": {
        "id": "EiB8bOqOygzv"
      },
      "source": [
        "# reset it to just Andrea likes Bobby and see if we can add the reverse\n",
        "val.update(vfs(\"likes => {(a, b)}\"))\n",
        "print(val['likes'])\n",
        "# now try to add the reverse\n",
        "val['likes'].update({('b', 'a')})\n",
        "print(val['likes'])"
      ],
      "execution_count": null,
      "outputs": []
    },
    {
      "cell_type": "markdown",
      "metadata": {
        "id": "fVM7mq3zygzv"
      },
      "source": [
        "Ok, that appears to have worked.  So, if you want to add a particular relationship or individual to a predicate, you can address the predicate and `update` it."
      ]
    },
    {
      "cell_type": "markdown",
      "metadata": {
        "id": "E29bwaTxygzv"
      },
      "source": [
        "Now, let's finish setting up the world (with respect to likings).  Here is the goal state:\n",
        "\n",
        "- Andrea likes everyone\n",
        "- Everyone likes Dana\n",
        "- Bobby likes Andrea\n",
        "- Dana likes Chris\n",
        "- Andrea and Bobby like the Sun\n",
        "- Chris and Dana like the Moon\n",
        "\n",
        "To get you started, we'll do \"Andrea likes everyone\" because it also allows me to remind you that for something like this we can actually do this somewhat programmatically.  We know who all the people are, they're the people referred to in `val['person']`."
      ]
    },
    {
      "cell_type": "code",
      "metadata": {
        "id": "uxwQ8gaWygzv"
      },
      "source": [
        "# go through everyone \"person\" refers to, add them to Andrea's \"like\" list:\n",
        "for (x,) in val['person']:\n",
        "    val['likes'].update({('a', x)})\n",
        "# display the result to see if it worked\n",
        "print(val['likes'])"
      ],
      "execution_count": null,
      "outputs": []
    },
    {
      "cell_type": "markdown",
      "metadata": {
        "id": "Ec8x4TIJygzv"
      },
      "source": [
        "## TASK 1 Finish setting up the world\n",
        "\n",
        "Finish setting up `val['likes']` to represent the world situation described above.\n"
      ]
    },
    {
      "cell_type": "code",
      "metadata": {
        "id": "BwC1py05ygzw"
      },
      "source": [
        "# Answer 1: Finish setting up val['likes']\n"
      ],
      "execution_count": null,
      "outputs": []
    },
    {
      "cell_type": "markdown",
      "metadata": {
        "id": "nj-EFZx1ygzw"
      },
      "source": [
        "If it worked, the command below will succeed (that is, it will print no error).  If it stops with an error, then you haven't quite gotten the definition of `val['likes']` right yet.\n",
        "\n",
        "> If you are comfortable enough with Python to see how this verification below works, then you will also see how you might be able to use the same trick to set up the world in a compact way as well, by using `set`, `zip`, and strings, and setting `val['likes']` to the result.  Doing it this way is harder to read/grasp when you go back to the code later, of course.  It basically goes through the strings and makes pairs drawing the first element from the first one and the second element from the second one.  So the first pair it makes is `('a', 'a')` and the last one is `('d', 'm')`.  "
      ]
    },
    {
      "cell_type": "code",
      "metadata": {
        "id": "e0oK1kKcygzw"
      },
      "source": [
        "assert val['likes'] == set(zip(\"aaaaabcdbdabcd\", \"abcdddddacssmm\")), \\\n",
        "    \"World is not set up properly yet.\""
      ],
      "execution_count": null,
      "outputs": []
    },
    {
      "cell_type": "markdown",
      "metadata": {
        "id": "cYxF7ALPygzw"
      },
      "source": [
        "At this point, your valuation function (`val`) will have passed the test for being set up, but let's do a more transparent test on this world.  We know it is supposed to be the case that Andrea likes everyone (that is, all the people).  How can we verify that part?  (Short of just looking at `print(val['likes'])` and checking by hand whether all the expected pairs are there.)\n",
        "\n",
        "If you type the following, you should get `True` if Andrea likes all the people."
      ]
    },
    {
      "cell_type": "code",
      "metadata": {
        "id": "Ow0Ab9z9ygzw"
      },
      "source": [
        "not False in [(val['andrea'], x) in val['likes'] for (x,) in val['person']]"
      ],
      "execution_count": null,
      "outputs": []
    },
    {
      "cell_type": "markdown",
      "metadata": {
        "id": "lFO5Plolygzx"
      },
      "source": [
        "Got `True`? Great. But why? If you just blindly executed the cell and got `True` without figuring\n",
        "out what it is doing, that's fine.  But now we're going to figure out what it is doing.\n",
        "\n",
        "First of all, remind yourself what `val['andrea']`, `val['person']`, and `val['likes']` are:"
      ]
    },
    {
      "cell_type": "code",
      "metadata": {
        "id": "p7weobD3ygzx"
      },
      "source": [
        "print(val['andrea'])\n",
        "print(val['person'])\n",
        "print(val['likes'])"
      ],
      "execution_count": null,
      "outputs": []
    },
    {
      "cell_type": "markdown",
      "source": [
        "When we say `for (x,) in val['person']` we are extracting each 1-tuple from the `val['person']` list, and then calling the member of that tuple `x`.  If we made a list of those, it would be a list of the individuals that \"person\" is true of."
      ],
      "metadata": {
        "id": "VwbiK770nHN3"
      }
    },
    {
      "cell_type": "code",
      "source": [
        "[x for (x,) in val['person']]"
      ],
      "metadata": {
        "id": "hJELB1banICZ"
      },
      "execution_count": null,
      "outputs": []
    },
    {
      "cell_type": "markdown",
      "metadata": {
        "id": "NYe5oa8Lygzx"
      },
      "source": [
        "We are trying to determine whether Andrea likes all the people.  So, we check, for each person,\n",
        "whether it is true that Andrea likes that person.  When we're done checking people, we should not\n",
        "have found any that yield `False`.  As you just saw, `val['person']` is a set of 1-tuples, like `('a',)`.\n",
        "So to go through the people, we want to use `for (x,) in val['person']` in order to set `x` to be\n",
        "the individual in our domain that corresponds to the person (e.g., `'a'`).  To determine whether\n",
        "Andrea likes the person in `x`, we need to find out whether the pair that has Andrea as the first\n",
        "member and `x` as the second member is in the set of \"likings\" in `val['likes']`.  The individual\n",
        "that Andrea represents is `val['andrea']` (which will be `'a'`).  So, we evaluate whether the\n",
        "pair `(val['andrea'], x)` is in `val['likes']`.  The expression `(val['andrea'], x) in val['likes']`\n",
        "will be `True` if Andrea likes `x` and `False` otherwise.  The list that this list comprehension\n",
        "builds will be a list of `True` or `False` values (one for each person).  If Andrea indeed likes every person, then the\n",
        "list should be `[True, True, True, True, True]`.  Finally, we check to see if `False` is anywhere in that\n",
        "list.  If it is, then: Andrea doesn't like every person.  If there is no `False` in there,\n",
        "then Andrea *does* like every person.  So, `not False in [...]` is `True` achieves the desired evaluation."
      ]
    },
    {
      "cell_type": "markdown",
      "metadata": {
        "id": "uhLcZa0cygzx"
      },
      "source": [
        "## TASK 2 Everyone likes Dana, in Python\n",
        "\n",
        "Use the same technique to verify that every person likes Dana."
      ]
    },
    {
      "cell_type": "code",
      "metadata": {
        "id": "Vo_0F9ycygzx"
      },
      "source": [
        "# Answer 2: Verify that every person likes Dana\n"
      ],
      "execution_count": null,
      "outputs": []
    },
    {
      "cell_type": "markdown",
      "metadata": {
        "id": "WIoV1JPvygzx"
      },
      "source": [
        "Now, let's formalize our model of the world into an official NLTK model.  A model pairs a domain and a Valuation function."
      ]
    },
    {
      "cell_type": "code",
      "metadata": {
        "id": "xRUtSDyNygzx"
      },
      "source": [
        "m = nltk.Model(dom, val)"
      ],
      "execution_count": null,
      "outputs": []
    },
    {
      "cell_type": "markdown",
      "metadata": {
        "id": "7QGXB5xDygzy"
      },
      "source": [
        "Once we have a model defined, we can use the model's `evaluate` function to test the truth\n",
        "of things in the model.  In order to use `evaluate` we also need to set up an \"assignment function\"\n",
        "(which can be thought of as a record of who we're pointing to).  To begin with, we'll just set up\n",
        "an empty assignment function (we aren't pointing at anything).  So we give it `dom` (the things we could be pointing to in principle), but don't actually point at anything."
      ]
    },
    {
      "cell_type": "code",
      "metadata": {
        "id": "OF5LLWJGygzy"
      },
      "source": [
        "g = nltk.Assignment(dom)"
      ],
      "execution_count": null,
      "outputs": []
    },
    {
      "cell_type": "markdown",
      "metadata": {
        "id": "szJ63f3Xygzy"
      },
      "source": [
        "Now, we can verify that Dana likes Chris, and verify that Bobby does not like Chris, in the following way:\n"
      ]
    },
    {
      "cell_type": "code",
      "metadata": {
        "id": "rZSEu6Cbygzy"
      },
      "source": [
        "print(m.evaluate('likes(dana, chris)', g))\n",
        "print(m.evaluate('-likes(bobby, chris)', g))"
      ],
      "execution_count": null,
      "outputs": []
    },
    {
      "cell_type": "markdown",
      "source": [
        "This is the same as just checking if `('d', 'c') in val['likes']` and `('b', 'c') not in val['likes']` but using `evaluate` allows us to write things in more concise logical form."
      ],
      "metadata": {
        "id": "y8iU5AqIO6_c"
      }
    },
    {
      "cell_type": "markdown",
      "metadata": {
        "id": "rnBY6mo7ygzy"
      },
      "source": [
        "## TASK 3 Evaluate and likings\n",
        "\n",
        "Use `evaluate` to verify that Dana does not like Bobby, and that Chris likes the Moon."
      ]
    },
    {
      "cell_type": "code",
      "metadata": {
        "id": "qjSKE3KHygzy"
      },
      "source": [
        "# Answer 3: Verify that Dana does not like Bobby, that Chris likes the Moon\n"
      ],
      "execution_count": null,
      "outputs": []
    },
    {
      "cell_type": "markdown",
      "metadata": {
        "id": "tViPiN9Cygzy"
      },
      "source": [
        "We can also use quantifiers like `all` and `exists` with `evaluate`.  For example, we can re-verify\n",
        "that Andrea likes every person, like so:"
      ]
    },
    {
      "cell_type": "code",
      "metadata": {
        "id": "IYFdZ67Wygzy"
      },
      "source": [
        "print(m.evaluate('all x.(person(x) -> likes(andrea, x))', g))"
      ],
      "execution_count": null,
      "outputs": []
    },
    {
      "cell_type": "markdown",
      "metadata": {
        "id": "1TjY-gWGygzz"
      },
      "source": [
        "The way the evaluation above works is pretty much exactly how our home-spun version from Task 2 worked.  It goes through\n",
        "all of the individuals in the domain one by one, and for each it checks to see if it's a person,\n",
        "and if it is a person, then it checks to see if it is the second member of a pair, whose first member\n",
        "is Andrea, that can be found in the list of \"likings\"."
      ]
    },
    {
      "cell_type": "markdown",
      "metadata": {
        "id": "eBJqHQYJygzz"
      },
      "source": [
        "## TASK 4 Evaluate: everyone likes Dana\n",
        "\n",
        "Use `evaluate` to verify that everybody likes Dana."
      ]
    },
    {
      "cell_type": "code",
      "metadata": {
        "id": "txS9rdelygzz"
      },
      "source": [
        "# Answer 4: Verify that everybody likes Dana (using \"all x\")\n"
      ],
      "execution_count": null,
      "outputs": []
    },
    {
      "cell_type": "markdown",
      "metadata": {
        "id": "uilOF43Eygzz"
      },
      "source": [
        "You can also use `exists`, which is true if the condition is met for at least one of the individuals in the\n",
        "domain.  So, if we want to ascertain that at least *somebody* likes Bobby, we can do the following:"
      ]
    },
    {
      "cell_type": "code",
      "metadata": {
        "id": "fpypF8fQygzz"
      },
      "source": [
        "print(m.evaluate('exists x.(person(x) & likes(x, bobby))', g))"
      ],
      "execution_count": null,
      "outputs": []
    },
    {
      "cell_type": "markdown",
      "metadata": {
        "id": "5MGjcleQygzz"
      },
      "source": [
        "What that means is that we can find *some* `x` in our domain `dom` such that `x` is both a `person` and\n",
        "in a `likes` relation with Bobby."
      ]
    },
    {
      "cell_type": "markdown",
      "metadata": {
        "id": "rmzDXHHbygzz"
      },
      "source": [
        "## TASK 5 Evaluate: liking the Sun, being from Cambridge\n",
        "\n",
        "Use `evaluate` to verify that every Bostonian likes the Sun, and that no spaceballs are from Cambridge."
      ]
    },
    {
      "cell_type": "code",
      "metadata": {
        "id": "16M3nVlKygzz"
      },
      "source": [
        "# Answer 5: Verify that every Bostonian likes the Sun, no spaceballs are from Cambridge\n"
      ],
      "execution_count": null,
      "outputs": []
    },
    {
      "cell_type": "markdown",
      "metadata": {
        "id": "vVEV67iZygzz"
      },
      "source": [
        "The string that we give to `evaluate` is first interpreted as a \"semantic Expression\"\n",
        "built from a string.  We can define such expressions\n",
        "directly for other uses, apart from just evaluating their truth.  The function that does this is `nltk.sem.Expression.fromstring`.  Like before, we'll\n",
        "give it a shorter name (`sfs`) to save on some typing.  Then we'll define a formula `f1` to be\n",
        "\"x likes the Moon\"."
      ]
    },
    {
      "cell_type": "code",
      "metadata": {
        "id": "zsqKkRynygz0"
      },
      "source": [
        "sfs = nltk.sem.Expression.fromstring\n",
        "f1 = sfs('likes(x, the_moon)')\n",
        "print(f1)"
      ],
      "execution_count": null,
      "outputs": []
    },
    {
      "cell_type": "markdown",
      "metadata": {
        "id": "bWB79C7Aygz0"
      },
      "source": [
        "So, is \"x likes the Moon\" true?  No idea.  We can't decide that until we know who `x` is\n",
        "supposed to be.  Once we know who `x` is, then we can figure out whether it's true.  Because\n",
        "we don't know who `x` is, `x` is considered a \"free variable.\"  Although it's kind of obvious,\n",
        "we can interrogate `f1` to ask it what its free variables are:"
      ]
    },
    {
      "cell_type": "code",
      "metadata": {
        "id": "ALNeK-wJygz0"
      },
      "source": [
        "print(f1.free())"
      ],
      "execution_count": null,
      "outputs": []
    },
    {
      "cell_type": "markdown",
      "metadata": {
        "id": "Me38mnCjygz0"
      },
      "source": [
        "If we want to know who likes the Moon, we can ask the model to tell us which individuals,\n",
        "when substituted in for `x`, would make `f1` true:"
      ]
    },
    {
      "cell_type": "code",
      "metadata": {
        "id": "AbKJj9K_ygz0"
      },
      "source": [
        "print(m.satisfiers(f1, 'x', g))"
      ],
      "execution_count": null,
      "outputs": []
    },
    {
      "cell_type": "markdown",
      "metadata": {
        "id": "Fm3oHqagygz0"
      },
      "source": [
        "## TASK 6 Satisfiers liked by Chris\n",
        "\n",
        "Use `satsifiers` to determine who/what Chris likes."
      ]
    },
    {
      "cell_type": "code",
      "metadata": {
        "id": "4U_jilJSygz0"
      },
      "source": [
        "# Answer 6: Use satisfiers to determine who/what Chris likes\n"
      ],
      "execution_count": null,
      "outputs": []
    },
    {
      "cell_type": "markdown",
      "metadata": {
        "id": "DE04xQzTygz1"
      },
      "source": [
        "One way that we can set a value for `x` is to use `x` to point to an individual.  That is,\n",
        "suppose we point (with our \"x\" finger) at Bobby, and then ask whether \"x likes the Moon\"\n",
        "is true.  Since this tells us who `x` is (namely, Bobby), we can decide whether \"x likes the Moon\"\n",
        "is true.  It's true if (and only if) Bobby likes the Moon."
      ]
    },
    {
      "cell_type": "code",
      "metadata": {
        "id": "fCJZA6tpygz1"
      },
      "source": [
        "f1 = sfs('likes(x, the_moon)')\n",
        "# reminder that f1 is the expression x likes the moon\n",
        "print(f1)\n",
        "# point to Bobby with x\n",
        "g['x'] = 'b'\n",
        "# does x like the moon, given that x is Bobby?\n",
        "print(m.satisfy(f1, g))\n",
        "# how about if x is Chris?\n",
        "g['x'] = 'c'\n",
        "print(m.satisfy(f1, g))"
      ],
      "execution_count": null,
      "outputs": []
    },
    {
      "cell_type": "markdown",
      "metadata": {
        "id": "a9H3uSKMygz1"
      },
      "source": [
        "This is what the assignment function is for.  It is a record of who/what we are pointing at,\n",
        "and with which fingers.  This is really designed to handle pronouns like *he*, *she*, *it*.\n",
        "If you use those pronouns, it is assumed that something in the discourse is basically pointing\n",
        "at the individual you mean.  Without some kind of pointing (\"deixis\") you won't be able to\n",
        "interpret the referent of a pronoun.\n"
      ]
    },
    {
      "cell_type": "markdown",
      "source": [
        "\n",
        "# Parsing sentences\n",
        "\n",
        "Let's try to build a little grammar that can take sentences and interpret them.  What we\n",
        "want to do here is create some phrase structure rules that will apply the semantics we\n",
        "defined to a syntactic structure.  We'll build this up from the bottom.\n"
      ],
      "metadata": {
        "id": "CW9GlHLoVk1F"
      }
    },
    {
      "cell_type": "code",
      "source": [
        "# first we install svgling so we can draw illustrative trees\n",
        "!pip install svgling\n",
        "import svgling"
      ],
      "metadata": {
        "id": "KYfew6OCVqRA"
      },
      "execution_count": null,
      "outputs": []
    },
    {
      "cell_type": "markdown",
      "source": [
        "To get a visual aid of where we're going, we'll use `svgling` to draw trees.  So that's why we just installed it.  \n",
        "\n",
        "First, a quick note on the `svgling`-friendly tree format.  It is very simple.  A node is a tuple, where the first element is the label of the subtree, and the subsequent elements are the daughters.  A daughter can be a string or a label.  A multi-line label is possible if you put `\"\\n\"` in the string (newline).\n",
        "\n",
        "Here is a tree showing the simple version of what we're heading for, and filling in the semantics for the DPs, which we are about to define.\n"
      ],
      "metadata": {
        "id": "rn6DDHkpVyBx"
      }
    },
    {
      "cell_type": "code",
      "source": [
        "# The tree, with the semantics of DP marked\n",
        "extree1 = (\"S\", (\"DP\\nchris\",\"chris\") , (\"VP\", (\"V\", \"likes\"), (\"DP\\ndana\", \"Dana\")))\n",
        "svgling.draw_tree(extree1)"
      ],
      "metadata": {
        "id": "vdrvaCSxVyyt"
      },
      "execution_count": null,
      "outputs": []
    },
    {
      "cell_type": "markdown",
      "source": [
        "\n",
        "As a first step, we will define the DPs, which will be just the names we have.\n",
        "(We are going to build a big multi-line string and then create the grammar using a\n",
        "`fromstring` function.)\n",
        "\n",
        "> Note: From here we'll start calling the subjects, objects, etc. \"DPs\" (determiner phrases) rather than \"NPs\" (noun phrases).  It is pretty well established in syntax that the determiner is the proper head of these phrases.  This requires assuming that there are silent determiners in some cases, though for now we will be content with just considering names to be DPs without any further internal structure.  When we start working with quantifiers like \"every person\" the interal structure will become more relevant."
      ],
      "metadata": {
        "id": "Av6tfyirVpbi"
      }
    },
    {
      "cell_type": "code",
      "metadata": {
        "id": "9g_CNFOiygz1"
      },
      "source": [
        "dpdef = r\"\"\"\n",
        "DP[SEM=<andrea>] -> 'andrea'\n",
        "DP[SEM=<bobby>] -> 'bobby'\n",
        "DP[SEM=<chris>] -> 'chris'\n",
        "DP[SEM=<dana>] -> 'dana'\n",
        "DP[SEM=<the_sun>] -> 'the_sun'\n",
        "DP[SEM=<the_moon>] -> 'the_moon'\n",
        "\"\"\""
      ],
      "execution_count": null,
      "outputs": []
    },
    {
      "cell_type": "markdown",
      "metadata": {
        "id": "XqJUUXqLygz1"
      },
      "source": [
        "What this means is that if the English word 'andrea' is encountered, that can be\n",
        "interpreted as an NP with the SEM feature being `<andrea>`.  And likewise for the other\n",
        "proper names.\n",
        "\n",
        "> **NOTE** Before the `\"\"\"` there is an `r`.  This is actually somewhat important later, because it means that the `\\` (backslash) character will be interpreted as a backslash.  If we didn't have then `r` (\"raw\"), then Python would do some magic that would wind up treating the `\\` character as an \"escape\" character.\n",
        "\n",
        "As for how the whole tree combines, it will start with `S` at the top, which is\n",
        "formed from an `DP` and a `VP`, and the `VP` is formed from a `V` and an `DP`.\n",
        "For now, that's all we'll do.\n",
        "\n",
        "What we want is for the semantics of the VP to combine the semantics of the V\n",
        "with the semantics of the DP.  So, if the V is \"likes(x, y)\", and the DP is \"bobby\",\n",
        "then we want the VP to be \"likes(x, bobby)\", more or less.\n",
        "\n",
        "Let's start with the VP.  The tree below is what we're looking for.  The semantics for V takes two arguments, the first (outer) one being called `y`, and the second (inner) one being called `x`.  When *likes* combines with *dana*, by applying the function represented by V to the argument represented by the DP, this results in `dana` (the value of the DP) being substituted in for `y`.  The value of the VP thus becomes `\\y.likes(y,dana)`. "
      ]
    },
    {
      "cell_type": "code",
      "source": [
        "# The tree, with the semantics of V and VP marked\n",
        "extree2 = (\"S\", (\"DP\\nchris\",\"chris\") , \\\n",
        "           (\"VP\\n\\\\x.likes(x,dana)\", (\"V\\n\\\\y.\\\\x.likes(x,y)\", \"likes\"), \\\n",
        "            (\"DP\\ndana\", \"Dana\")))\n",
        "svgling.draw_tree(extree2)"
      ],
      "metadata": {
        "id": "V6_nqxRRXiB9"
      },
      "execution_count": null,
      "outputs": []
    },
    {
      "cell_type": "markdown",
      "source": [
        "The rules we want to add into our grammar are those below, the lines defining VP and V as illustrated in the tree above."
      ],
      "metadata": {
        "id": "K_iSCZ7eYaE0"
      }
    },
    {
      "cell_type": "code",
      "metadata": {
        "id": "tlXNOU_qygz1"
      },
      "source": [
        "vpdef = r\"\"\"\n",
        "VP[SEM=<?v(?obj)>] -> V[SEM=?v] DP[SEM=?obj]\n",
        "V[SEM=<\\y.\\x.likes(x,y)>] -> 'likes'\n",
        "\"\"\""
      ],
      "execution_count": null,
      "outputs": []
    },
    {
      "cell_type": "markdown",
      "source": [
        "Then the last step is to combine the VP and subject DP.  Even in the tree above you can already see how this should work.  The semantics of the VP is a function that takes a single argument.  If we apply the VP function to the subject DP argument, the result is the expression you get by substituting in `chris` for `x`, yielding `likes(dana,chris)`.\n",
        "\n",
        "We will define `cfgdef` as our overall grammar, and then we will add `vpdef` and `dpdef` (defined above) in as well."
      ],
      "metadata": {
        "id": "53ae8qWkY0-b"
      }
    },
    {
      "cell_type": "code",
      "metadata": {
        "id": "R-lUOXS1ygz1"
      },
      "source": [
        "cfgdef = r\"\"\"\n",
        "% start S\n",
        "S[SEM=<?vp(?subj)>] -> DP[SEM=?subj] VP[SEM=?vp]\n",
        "\"\"\""
      ],
      "execution_count": null,
      "outputs": []
    },
    {
      "cell_type": "markdown",
      "metadata": {
        "id": "F6sx7_zRygz1"
      },
      "source": [
        "The way to understand this is: The semantics of S is the function that\n",
        "we get from the semantics of VP, applied to the argument that we get from\n",
        "the semantics of the DP subject.  So, by saying `DP[SEM=?subj]` we are\n",
        "naming the value of the DP's `SEM` feature (whatever it is) as `?subj`.\n",
        "We name the value of the VP's `SEM` feature (whatever it is) as `?vp`.\n",
        "We assume that `?vp` is a function that can take `?subj` as an argument.\n",
        "And so, the `SEM` feature that we assign to S is whatever we get when\n",
        "we apply the function `?vp` to the argument `?subj`.\n",
        "\n",
        "> Note that the `% start S` is actually important (it is not a comment).  The grammar needs to start with that, this tells the parser what symbol is at the top of the tree.\n",
        "\n",
        "We then do the same thing for the VP.  We assume that the V is going\n",
        "to be a function that we can apply to the DP."
      ]
    },
    {
      "cell_type": "markdown",
      "metadata": {
        "id": "rou35XZMygz2"
      },
      "source": [
        "> Above was where the `r` was important, because we have some `\\` characters in the string.  We need those `\\` characters to stay there.  They are being treated as \"lambda\" characters.  We may not have discussed these yet.  For the moment, maybe just trusting the notation above is wisest.  What the second line says, though, is really: \"given a y, and given an x, x likes y\".  The `\\` indicates that the expression takes an argument, and the fact that there are two means that we need two arguments (liker and likee) before we know whether the liking relationship truly holds.\n",
        "\n",
        "So, now we can add in the VP and DP definitions we did earlier, and\n",
        "take a look at the whole grammar."
      ]
    },
    {
      "cell_type": "code",
      "metadata": {
        "id": "WNgFfrlnygz2"
      },
      "source": [
        "cfgdef += dpdef + vpdef\n",
        "print(cfgdef)"
      ],
      "execution_count": null,
      "outputs": []
    },
    {
      "cell_type": "markdown",
      "metadata": {
        "id": "sXhLAv8Uygz2"
      },
      "source": [
        "Now that we have the definition, we can parse it into an actual grammar\n",
        "that NLTK can use, and then connect it to a parser (we will use the one\n",
        "called `FeatureChartParser`)."
      ]
    },
    {
      "cell_type": "code",
      "metadata": {
        "id": "aaSdbaYfygz2"
      },
      "source": [
        "from nltk import grammar\n",
        "gram = grammar.FeatureGrammar.fromstring(cfgdef)\n",
        "cp = nltk.FeatureChartParser(gram)"
      ],
      "execution_count": null,
      "outputs": []
    },
    {
      "cell_type": "markdown",
      "metadata": {
        "id": "FNHYt0JTygz2"
      },
      "source": [
        "And now we can parse some sentences.  Let's start with \"bobby likes chris\":"
      ]
    },
    {
      "cell_type": "code",
      "metadata": {
        "id": "HoTg-7gkygz2"
      },
      "source": [
        "parses = list(cp.parse('bobby likes chris'.split()))\n",
        "print(len(parses))\n",
        "print(parses[0])"
      ],
      "execution_count": null,
      "outputs": []
    },
    {
      "cell_type": "markdown",
      "metadata": {
        "id": "G_XmL1vTygz2"
      },
      "source": [
        "If everything worked up to now, you should see that there is 1 parse,\n",
        "and `print(parses[0])` will show you the parse it got.\n",
        "\n",
        "The very first line is the overall semantic value for the tree, which we\n",
        "can get like this:"
      ]
    },
    {
      "cell_type": "code",
      "metadata": {
        "id": "aIU99Oplygz3"
      },
      "source": [
        "treesem = parses[0].label()['SEM']\n",
        "print(treesem)"
      ],
      "execution_count": null,
      "outputs": []
    },
    {
      "cell_type": "markdown",
      "metadata": {
        "id": "DQJMHZnGygz3"
      },
      "source": [
        "And, now that we have this expression, we can test it against the model\n",
        "to see if it is actually true.  Note that we are using `satisfy` and not\n",
        "`evaluate` -- the `evaluate` function takes a string and turns it into a\n",
        "semantic expression, and then calls `satisfy`.  Since we already have a\n",
        "semantic expression, we can just call `satisfy` directly."
      ]
    },
    {
      "cell_type": "code",
      "metadata": {
        "id": "7uPOr_vPygz3"
      },
      "source": [
        "print(m.satisfy(treesem, g))"
      ],
      "execution_count": null,
      "outputs": []
    },
    {
      "cell_type": "markdown",
      "metadata": {
        "id": "XS7OWlm6ygz3"
      },
      "source": [
        "And thus we learn that, in this model, Bobby does not like Chris.\n",
        "\n",
        "If we want to know if Bobby likes Dana, we just change the sentence."
      ]
    },
    {
      "cell_type": "code",
      "metadata": {
        "id": "k6pWEx8eygz3"
      },
      "source": [
        "parses = list(cp.parse('bobby likes dana'.split()))\n",
        "print(parses[0])\n",
        "treesem = parses[0].label()['SEM']\n",
        "print(treesem)\n",
        "print(m.satisfy(treesem, g))"
      ],
      "execution_count": null,
      "outputs": []
    },
    {
      "cell_type": "markdown",
      "metadata": {
        "id": "ERrbZ-Zxygz3"
      },
      "source": [
        "## TASK 7 Checking the model for truth\n",
        "\n",
        "Use this grammar to parse sentences telling you whether Chris likes Bobby and\n",
        "whether Bobby likes the Sun.\n",
        "\n",
        "> Don't forget that the Sun is all one word (`the_sun`) in this grammar.\n"
      ]
    },
    {
      "cell_type": "code",
      "metadata": {
        "id": "feMLB0kkygz3"
      },
      "source": [
        "# Answer 7: Parse sentences and check against the model for:\n",
        "# Chris likes Bobby, and for Bobby likes the Sun\n",
        "\n"
      ],
      "execution_count": null,
      "outputs": []
    },
    {
      "cell_type": "markdown",
      "metadata": {
        "id": "U_oJNJAYygz3"
      },
      "source": [
        "That's actually pretty cool.  We can get from a sentence to a tree to truth conditions to\n",
        "an actual evaluation of whether a sentence is true or false.  Granted, we can't do very\n",
        "complicated sentences, but we have a place to start and we can kind of see how we could\n",
        "proceed."
      ]
    },
    {
      "cell_type": "markdown",
      "source": [
        "# Drawing trees\n",
        "\n",
        "We can use `svgling` to draw trees, but the trees that the `FeatureGrammar` produces are not by default in a format that `svgling` can draw.  So, we will convert them.\n",
        "\n",
        "Below, a `convert_tree` function is defined that will traverse a parse tree and create a tuple suitable for drawing with `svgling`.  I will explain what the code is doing, but there isn't anything that really relies on your understanding it too deeply.  The idea in \"pseudocode\" is basically this:\n",
        "\n",
        "```\n",
        "convert_tree(node):\n",
        "  if node is a subtree:\n",
        "    label = the subtree's label and SEM value\n",
        "    return (label, convert_tree(x1), ...) where x1, ... are the daughters of node\n",
        "  else (if node is not a subtree, but rather a string):\n",
        "    return node\n",
        "```\n",
        "\n",
        "This function is recursive.  If one of the daughters of the node/tree we pass in is itself a subtree (a node that has daughters), then `convert_tree` will first be used to convert that subtree, and then included in the return value.  If `convert_tree` is called with just a string (not a subtree), it will just return that string.\n",
        "\n",
        "Here, then, is the actual code:"
      ],
      "metadata": {
        "id": "gUmuqLHUXwAe"
      }
    },
    {
      "cell_type": "code",
      "source": [
        "# convert a feature tree into something svgling can draw\n",
        "def convert_tree(node):\n",
        "  nodetype = type(node).__name__\n",
        "  if nodetype == 'Tree':\n",
        "    keylist = list(node.label().keys())\n",
        "    label = node.label()[keylist[0]]\n",
        "    if 'SEM' in node.label():\n",
        "      label += \"\\n\" + str(node.label()['SEM'])\n",
        "    return tuple([label] + [convert_tree(child) for child in node])\n",
        "  else:\n",
        "    return node"
      ],
      "metadata": {
        "id": "ltxQrssvcAdB"
      },
      "execution_count": null,
      "outputs": []
    },
    {
      "cell_type": "markdown",
      "source": [
        "and this is what it does.  We'll parse \"Bobby likes Chris\", look at the original tree, and the converted tree."
      ],
      "metadata": {
        "id": "2-2A7mlrcDn5"
      }
    },
    {
      "cell_type": "code",
      "source": [
        "parses = list(cp.parse('bobby likes chris'.split()))\n",
        "converted_parse = convert_tree(parses[0])\n",
        "print(\"Parse in original form:\")\n",
        "print(parses[0])\n",
        "print(\"Parse in converted form:\")\n",
        "print(converted_parse)"
      ],
      "metadata": {
        "id": "cvtslCsUYOxn"
      },
      "execution_count": null,
      "outputs": []
    },
    {
      "cell_type": "markdown",
      "source": [
        "And with that, we are in a position to draw the tree.  Which we can do by calling `svgling.draw_tree()` like so:"
      ],
      "metadata": {
        "id": "Yspsb2pT8ExF"
      }
    },
    {
      "cell_type": "code",
      "source": [
        "# draw the tree\n",
        "svgling.draw_tree(converted_parse)"
      ],
      "metadata": {
        "id": "OJn4-TIQOXf-"
      },
      "execution_count": null,
      "outputs": []
    },
    {
      "cell_type": "markdown",
      "source": [
        "I find the tree much more helpful in visualizing how the meaning is being computed, and how the semantic pieces need to be defined to get what we want.  The ultimate goal is to create a formula at the top of the tree that we can evaluate against the model to see if it is true or false.\n"
      ],
      "metadata": {
        "id": "nUjvns8ePE__"
      }
    },
    {
      "cell_type": "markdown",
      "source": [
        "# Quantifiers, first step\n",
        "\n",
        "Now, we will add \"every person\" to our grammar, to see how this works.  We will continue the work on quantifiers more in the next homework.\n",
        "\n",
        "Earlier, we worked out how to evaluate \"everyone likes Dana\" both in basic Python and as an expression using `evaluate`.  Now what we want to do is create a grammar that will take a sentence like \"every person likes dana\" and turn it into the expression we got before, namely `all x.(person(x) -> likes(x, dana))`.  If we can get the SEM feature of the top node of the tree to hold that expression, then we can use `evaluate` to get the truth value.\n",
        "\n",
        "The first step then is to work out what the structure of the quantifier is.  We know that it is a DP, since it can be a subject.  It is reasonable to take \"every\" to be the D and \"person\" to be an NP, in a structure that looks like this:"
      ],
      "metadata": {
        "id": "KK_qwFdoVMeo"
      }
    },
    {
      "cell_type": "code",
      "source": [
        "svgling.draw_tree(('DP', ('D', 'every'), ('NP', 'person')))"
      ],
      "metadata": {
        "id": "ujwX-PiVXNOs"
      },
      "execution_count": null,
      "outputs": []
    },
    {
      "cell_type": "markdown",
      "source": [
        "We pretty much have to assume that the meaning of \"person\" should be a function that is true of people and false of other things.  So, the meaning of \"person\" is pretty obvious."
      ],
      "metadata": {
        "id": "dIiPBKkTXXn0"
      }
    },
    {
      "cell_type": "code",
      "source": [
        "np2def = cfgdef + r\"\"\"\n",
        "NP[SEM=<\\y.person(y)>] -> 'person'\n",
        "\"\"\""
      ],
      "metadata": {
        "id": "4EH7EAQkXU7v"
      },
      "execution_count": null,
      "outputs": []
    },
    {
      "cell_type": "markdown",
      "source": [
        "And we already basically know what the VP should mean.  True of dana-likers.  We can already compute this with the grammar that we had, so it will be:\n",
        "\n",
        "`\\y.like(y,dana)`"
      ],
      "metadata": {
        "id": "r_KQCZ-3XyR2"
      }
    },
    {
      "cell_type": "markdown",
      "source": [
        "The trick now is how to combine the meanings of the VP and the meaning of the subject to get to the expression we want."
      ],
      "metadata": {
        "id": "0oSbYEfqYC1V"
      }
    },
    {
      "cell_type": "code",
      "source": [
        "svgling.draw_tree(('S\\nall x.(person(x) -> likes(x, dana))', ('DP', \\\n",
        "  ('D', 'every'), ('NP', 'person\\n\\\\y.person(y)')), \\\n",
        "  ('VP\\n\\\\y.like(y,dana)', ('V', 'likes'), ('DP', 'dana'))))"
      ],
      "metadata": {
        "id": "zSNCUn5WYMc5"
      },
      "execution_count": null,
      "outputs": []
    },
    {
      "cell_type": "markdown",
      "source": [
        "It seems pretty clear that if we want `all x.(...)` at S, and it's not coming from the VP (which it isn't), then it must be part of the meaning of the DP.\n",
        "\n",
        "But the `likes(x,dana)` part of S should be coming from VP.  So, what we need to do is assume that DP is a function that can take the VP *as a function* and incorporate it into the more complex expression.\n",
        "\n",
        "Specifically, we want DP to look like:\n",
        "\n",
        "```\n",
        "\\Q.all x.(person(x) -> Q(x))\n",
        "```\n",
        "\n",
        "The way to understand that is that it takes a function as its argument, calls it `Q`, and then applies that function to `x` inside its expression."
      ],
      "metadata": {
        "id": "I-uDjdbOXuDA"
      }
    },
    {
      "cell_type": "code",
      "source": [
        "svgling.draw_tree(('S\\nall x.(person(x) -> likes(x, dana))', \\\n",
        "  ('DP\\n\\\\Q.all x.(person(x) -> Q(x))', \\\n",
        "  ('D', 'every'), ('NP', 'person\\n\\\\y.person(y)')), \\\n",
        "  ('VP\\n\\\\y.like(y,dana)', ('V', 'likes'), ('DP', 'dana'))))"
      ],
      "metadata": {
        "id": "9ubCsXg6bWVS"
      },
      "execution_count": null,
      "outputs": []
    },
    {
      "cell_type": "markdown",
      "source": [
        "And now we need to figure out what the semantics of *every* should be.  The same logic we just followed would suggest that the `\\y.person(y)` from the NP is contributing the `person(x)` part of the DP semantics, and the rest of it is coming from D.  So, again we want to make a function that takes a function as its argument, and uses it inside the resulting expression.\n",
        "\n",
        "The resulting expression at DP is:\n",
        "\n",
        "```\n",
        "\\Q.all x.(person(x) -> Q(x))\n",
        "```\n",
        "\n",
        "So the expression for D would be:\n",
        "\n",
        "```\n",
        "\\N \\Q.all x.(N(x) -> Q(x))\n",
        "```\n",
        "\n",
        "So, it takes a predicate (like \"person\") and calls it `N`, then applies it inside the expression on the left side of the conditional.\n",
        "\n",
        "> Note: For whatever reason, you don't use the `.` between multiple lambda arguments.  This was true back when we defined \"likes\" as well.  There's a space here between the `\\N` and the `\\Q` rather than a `.`.\n",
        "\n",
        "So now, let's make a new grammar with our old grammar plus the new definitions to allow for \"every person\" to be a subject."
      ],
      "metadata": {
        "id": "pmU6D1Z5bepW"
      }
    },
    {
      "cell_type": "code",
      "source": [
        "cfg2def = cfgdef + r\"\"\"\n",
        "NP[SEM=<\\y.person(y)>] -> 'person'\n",
        "D[SEM=<\\N Q.all x.(N(x) -> Q(x))>] -> 'every'\n",
        "DP[SEM=<?det(?np)>] -> D[SEM=?det] NP[SEM=?np]\n",
        "S[SEM=<?subj(?vp)>] -> DP[SEM=?subj] VP[SEM=?vp]\n",
        "\"\"\""
      ],
      "metadata": {
        "id": "avGXz4bfTSfS"
      },
      "execution_count": null,
      "outputs": []
    },
    {
      "cell_type": "code",
      "source": [
        "gram2 = grammar.FeatureGrammar.fromstring(cfg2def)\n",
        "cp2 = nltk.FeatureChartParser(gram2)"
      ],
      "metadata": {
        "id": "pHUHZvhLUQn1"
      },
      "execution_count": null,
      "outputs": []
    },
    {
      "cell_type": "markdown",
      "source": [
        "If we parse \"every person likes chris\" we now get two parses.  That's because we have two `S` rules, two ways that we can combine the subject DP and the VP.  One for when the subject is a name, and one for when the subject is a quantifier."
      ],
      "metadata": {
        "id": "BeUcyq3rc9Wi"
      }
    },
    {
      "cell_type": "code",
      "source": [
        "parses = list(cp2.parse('every person likes dana'.split()))\n",
        "converted_parses = [convert_tree(p) for p in parses]\n",
        "print(len(converted_parses))"
      ],
      "metadata": {
        "id": "y--tPxs8UrD9"
      },
      "execution_count": null,
      "outputs": []
    },
    {
      "cell_type": "markdown",
      "source": [
        "Let's look at the two parses."
      ],
      "metadata": {
        "id": "vIZ4EDvHdKWP"
      }
    },
    {
      "cell_type": "code",
      "source": [
        "svgling.draw_tree(converted_parses[0])"
      ],
      "metadata": {
        "id": "x6a2gDQhUvIT"
      },
      "execution_count": null,
      "outputs": []
    },
    {
      "cell_type": "code",
      "source": [
        "svgling.draw_tree(converted_parses[1])"
      ],
      "metadata": {
        "id": "cQ4c7Q35U-Z8"
      },
      "execution_count": null,
      "outputs": []
    },
    {
      "cell_type": "markdown",
      "source": [
        "The first one doesn't really make any sense.  It has combined the subject and VP in the wrong direction.  The second one is the one we want.  We will pursue this more in the next homework.  For now, let's just evaluate whether the second one is true or not. \n",
        "\n",
        "> Note here that we are using `satisfy` rather than `evaluate` because the value of the label's SEM feature is already an NLTK Expression."
      ],
      "metadata": {
        "id": "ddTms1Xvfwi8"
      }
    },
    {
      "cell_type": "code",
      "source": [
        "treesem = parses[1].label()['SEM']\n",
        "print(m.satisfy(treesem, g))"
      ],
      "metadata": {
        "id": "47hor0_sdXDm"
      },
      "execution_count": null,
      "outputs": []
    },
    {
      "cell_type": "markdown",
      "source": [
        "It is.\n"
      ],
      "metadata": {
        "id": "bqoE2aJLgJX2"
      }
    },
    {
      "cell_type": "markdown",
      "source": [
        "## TASK 8 Every Bostonian likes the_sun\n",
        "\n",
        "This is just an exercise in tweaking the above discussion slightly, just to help reinforce it.  The goal: add \"bostonian\" as a noun to the grammar such that you can parse \"every bostonian likes the_sun\" and evaluate its truth.  It should be true. \n"
      ],
      "metadata": {
        "id": "SIMuRbQAgcYY"
      }
    },
    {
      "cell_type": "code",
      "source": [
        "# Answer 8\n"
      ],
      "metadata": {
        "id": "uRvJq-Ymd-44"
      },
      "execution_count": null,
      "outputs": []
    },
    {
      "cell_type": "markdown",
      "source": [
        "# Advanced/Optional - object quantifiers and names\n",
        "\n",
        "If you got through all of this so quickly it didn't seem interesting, you can try to get a jump on what we'll do next.  What we've got so far is the ability to parse \"every bostonian likes the_sun\" and \"every person likes dana\".\n",
        "\n",
        "But, there are a couple of major problems.  One is that it comes up with a nonsensical parse (alongside the correct parse) now.  It would be better if it came up with just one, that was interpretable.  And: it cannot handle \"dana likes every bostonian\" (that is: a quantifier in object position).\n",
        "\n",
        "To handle the first one, think about how you might change the grammar so that the subject DP *always* takes the VP as an argument.  That is, essentially, turn proper names into a quantifier too.  Can you set it up so that there is just one rule that starts `S ->` that combines the subject and VP and can parse both \"every person likes dana\" and \"chris likes dana\", giving one parse for each?\n",
        "\n",
        "And then: what will it take to allow for a quantified object, as in \"Dana likes every person\"?  We're going to want to do this if we have changed all the names into quantifiers too.  This is potentially very difficult.  The meaning we want for \"Dana likes every person\" is `all x.(person(x) -> like(d,x))` --- can you get that to come out as a meaning at the top?  What would it require the meaning of \"likes\" to be?"
      ],
      "metadata": {
        "id": "Y24s_9fLoydM"
      }
    },
    {
      "cell_type": "code",
      "source": [],
      "metadata": {
        "id": "1GBB2sCsqXH9"
      },
      "execution_count": null,
      "outputs": []
    }
  ]
}